{
 "cells": [
  {
   "cell_type": "markdown",
   "metadata": {},
   "source": [
    "# CREDIT CARD LEAD PREDICTION"
   ]
  },
  {
   "cell_type": "code",
   "execution_count": null,
   "metadata": {},
   "outputs": [],
   "source": [
    "Happy Customer Bank is a mid-sized private bank that deals in all kinds of banking products, like Savings accounts, Current accounts, investment products, credit products, among other offerings.\n",
    "\n",
    "The bank also cross-sells products to its existing customers and to do so they use different kinds of communication like tele-calling, e-mails, recommendations on net banking, mobile banking, etc. \n",
    "\n",
    "In this case, the Happy Customer Bank wants to cross sell its credit cards to its existing customers. The bank has identified a set of customers that are eligible for taking these credit cards.\n",
    "\n",
    "Now, the bank is looking for your help in identifying customers that could show higher intent towards a recommended credit card, given:\n",
    "\n",
    "Customer details (gender, age, region etc.)\n",
    "Details of his/her relationship with the bank (Channel_Code,Vintage, 'Avg_Asset_Value etc.)"
   ]
  },
  {
   "cell_type": "markdown",
   "metadata": {
    "id": "OkaT5nOu93PF"
   },
   "source": [
    "## GETTING LIBRARIES"
   ]
  },
  {
   "cell_type": "code",
   "execution_count": null,
   "metadata": {
    "colab": {
     "base_uri": "https://localhost:8080/"
    },
    "id": "qMMkzl1-WK0I",
    "outputId": "d7c83903-73ee-4a69-f440-7ee8a018be0c"
   },
   "outputs": [],
   "source": [
    "# Import Libraries\n",
    "import warnings\n",
    "warnings.filterwarnings('ignore')\n",
    "import time\n",
    "import numpy as np\n",
    "import pandas as pd\n",
    "pd.options.display.float_format = '{:.2f}'.format\n",
    "import matplotlib.pyplot as plt\n",
    "import seaborn as sns\n",
    "import sklearn\n",
    "# Print versions of libraries\n",
    "print(f\"Numpy version : Numpy {np.__version__}\")\n",
    "print(f\"Pandas version : Pandas {pd.__version__}\")\n",
    "print(f\"Seaborn version : Seaborn {sns.__version__}\")\n",
    "print(f\"SkLearn version : SkLearn {sklearn.__version__}\")\n",
    "# Magic Functions for In-Notebook Display\n",
    "%matplotlib inline\n",
    "# Setting seabon style\n",
    "sns.set(style='darkgrid', palette='colorblind')"
   ]
  },
  {
   "cell_type": "markdown",
   "metadata": {
    "id": "fkdbOfreeUkF"
   },
   "source": [
    "## Load Data"
   ]
  },
  {
   "cell_type": "code",
   "execution_count": 2,
   "metadata": {
    "colab": {
     "base_uri": "https://localhost:8080/",
     "height": 402
    },
    "id": "ungIGdzgapbf",
    "outputId": "c311e06e-1306-4c17-ea30-8759e77471de"
   },
   "outputs": [
    {
     "data": {
      "text/html": [
       "<div>\n",
       "<style scoped>\n",
       "    .dataframe tbody tr th:only-of-type {\n",
       "        vertical-align: middle;\n",
       "    }\n",
       "\n",
       "    .dataframe tbody tr th {\n",
       "        vertical-align: top;\n",
       "    }\n",
       "\n",
       "    .dataframe thead th {\n",
       "        text-align: right;\n",
       "    }\n",
       "</style>\n",
       "<table border=\"1\" class=\"dataframe\">\n",
       "  <thead>\n",
       "    <tr style=\"text-align: right;\">\n",
       "      <th></th>\n",
       "      <th>id</th>\n",
       "      <th>gender</th>\n",
       "      <th>age</th>\n",
       "      <th>region_code</th>\n",
       "      <th>occupation</th>\n",
       "      <th>channel_code</th>\n",
       "      <th>vintage</th>\n",
       "      <th>credit_product</th>\n",
       "      <th>avg_account_balance</th>\n",
       "      <th>is_active</th>\n",
       "      <th>is_lead</th>\n",
       "    </tr>\n",
       "  </thead>\n",
       "  <tbody>\n",
       "    <tr>\n",
       "      <th>0</th>\n",
       "      <td>NNVBBKZB</td>\n",
       "      <td>Female</td>\n",
       "      <td>73</td>\n",
       "      <td>RG268</td>\n",
       "      <td>Other</td>\n",
       "      <td>X3</td>\n",
       "      <td>43</td>\n",
       "      <td>No</td>\n",
       "      <td>1045696</td>\n",
       "      <td>No</td>\n",
       "      <td>0</td>\n",
       "    </tr>\n",
       "    <tr>\n",
       "      <th>1</th>\n",
       "      <td>IDD62UNG</td>\n",
       "      <td>Female</td>\n",
       "      <td>30</td>\n",
       "      <td>RG277</td>\n",
       "      <td>Salaried</td>\n",
       "      <td>X1</td>\n",
       "      <td>32</td>\n",
       "      <td>No</td>\n",
       "      <td>581988</td>\n",
       "      <td>No</td>\n",
       "      <td>0</td>\n",
       "    </tr>\n",
       "    <tr>\n",
       "      <th>2</th>\n",
       "      <td>HD3DSEMC</td>\n",
       "      <td>Female</td>\n",
       "      <td>56</td>\n",
       "      <td>RG268</td>\n",
       "      <td>Self_Employed</td>\n",
       "      <td>X3</td>\n",
       "      <td>26</td>\n",
       "      <td>No</td>\n",
       "      <td>1484315</td>\n",
       "      <td>Yes</td>\n",
       "      <td>0</td>\n",
       "    </tr>\n",
       "    <tr>\n",
       "      <th>3</th>\n",
       "      <td>BF3NC7KV</td>\n",
       "      <td>Male</td>\n",
       "      <td>34</td>\n",
       "      <td>RG270</td>\n",
       "      <td>Salaried</td>\n",
       "      <td>X1</td>\n",
       "      <td>19</td>\n",
       "      <td>No</td>\n",
       "      <td>470454</td>\n",
       "      <td>No</td>\n",
       "      <td>0</td>\n",
       "    </tr>\n",
       "    <tr>\n",
       "      <th>4</th>\n",
       "      <td>TEASRWXV</td>\n",
       "      <td>Female</td>\n",
       "      <td>30</td>\n",
       "      <td>RG282</td>\n",
       "      <td>Salaried</td>\n",
       "      <td>X1</td>\n",
       "      <td>33</td>\n",
       "      <td>No</td>\n",
       "      <td>886787</td>\n",
       "      <td>No</td>\n",
       "      <td>0</td>\n",
       "    </tr>\n",
       "    <tr>\n",
       "      <th>...</th>\n",
       "      <td>...</td>\n",
       "      <td>...</td>\n",
       "      <td>...</td>\n",
       "      <td>...</td>\n",
       "      <td>...</td>\n",
       "      <td>...</td>\n",
       "      <td>...</td>\n",
       "      <td>...</td>\n",
       "      <td>...</td>\n",
       "      <td>...</td>\n",
       "      <td>...</td>\n",
       "    </tr>\n",
       "    <tr>\n",
       "      <th>245720</th>\n",
       "      <td>BPAWWXZN</td>\n",
       "      <td>Male</td>\n",
       "      <td>51</td>\n",
       "      <td>RG284</td>\n",
       "      <td>Self_Employed</td>\n",
       "      <td>X3</td>\n",
       "      <td>109</td>\n",
       "      <td>NaN</td>\n",
       "      <td>1925586</td>\n",
       "      <td>No</td>\n",
       "      <td>0</td>\n",
       "    </tr>\n",
       "    <tr>\n",
       "      <th>245721</th>\n",
       "      <td>HFNB7JY8</td>\n",
       "      <td>Male</td>\n",
       "      <td>27</td>\n",
       "      <td>RG268</td>\n",
       "      <td>Salaried</td>\n",
       "      <td>X1</td>\n",
       "      <td>15</td>\n",
       "      <td>No</td>\n",
       "      <td>862952</td>\n",
       "      <td>Yes</td>\n",
       "      <td>0</td>\n",
       "    </tr>\n",
       "    <tr>\n",
       "      <th>245722</th>\n",
       "      <td>GEHAUCWT</td>\n",
       "      <td>Female</td>\n",
       "      <td>26</td>\n",
       "      <td>RG281</td>\n",
       "      <td>Salaried</td>\n",
       "      <td>X1</td>\n",
       "      <td>13</td>\n",
       "      <td>No</td>\n",
       "      <td>670659</td>\n",
       "      <td>No</td>\n",
       "      <td>0</td>\n",
       "    </tr>\n",
       "    <tr>\n",
       "      <th>245723</th>\n",
       "      <td>GE7V8SAH</td>\n",
       "      <td>Female</td>\n",
       "      <td>28</td>\n",
       "      <td>RG273</td>\n",
       "      <td>Salaried</td>\n",
       "      <td>X1</td>\n",
       "      <td>31</td>\n",
       "      <td>No</td>\n",
       "      <td>407504</td>\n",
       "      <td>No</td>\n",
       "      <td>0</td>\n",
       "    </tr>\n",
       "    <tr>\n",
       "      <th>245724</th>\n",
       "      <td>BOCZSWLJ</td>\n",
       "      <td>Male</td>\n",
       "      <td>29</td>\n",
       "      <td>RG269</td>\n",
       "      <td>Salaried</td>\n",
       "      <td>X1</td>\n",
       "      <td>21</td>\n",
       "      <td>No</td>\n",
       "      <td>1129276</td>\n",
       "      <td>No</td>\n",
       "      <td>0</td>\n",
       "    </tr>\n",
       "  </tbody>\n",
       "</table>\n",
       "<p>245725 rows × 11 columns</p>\n",
       "</div>"
      ],
      "text/plain": [
       "              id  gender  age region_code     occupation channel_code  \\\n",
       "0       NNVBBKZB  Female   73       RG268          Other           X3   \n",
       "1       IDD62UNG  Female   30       RG277       Salaried           X1   \n",
       "2       HD3DSEMC  Female   56       RG268  Self_Employed           X3   \n",
       "3       BF3NC7KV    Male   34       RG270       Salaried           X1   \n",
       "4       TEASRWXV  Female   30       RG282       Salaried           X1   \n",
       "...          ...     ...  ...         ...            ...          ...   \n",
       "245720  BPAWWXZN    Male   51       RG284  Self_Employed           X3   \n",
       "245721  HFNB7JY8    Male   27       RG268       Salaried           X1   \n",
       "245722  GEHAUCWT  Female   26       RG281       Salaried           X1   \n",
       "245723  GE7V8SAH  Female   28       RG273       Salaried           X1   \n",
       "245724  BOCZSWLJ    Male   29       RG269       Salaried           X1   \n",
       "\n",
       "        vintage credit_product  avg_account_balance is_active  is_lead  \n",
       "0            43             No              1045696        No        0  \n",
       "1            32             No               581988        No        0  \n",
       "2            26             No              1484315       Yes        0  \n",
       "3            19             No               470454        No        0  \n",
       "4            33             No               886787        No        0  \n",
       "...         ...            ...                  ...       ...      ...  \n",
       "245720      109            NaN              1925586        No        0  \n",
       "245721       15             No               862952       Yes        0  \n",
       "245722       13             No               670659        No        0  \n",
       "245723       31             No               407504        No        0  \n",
       "245724       21             No              1129276        No        0  \n",
       "\n",
       "[245725 rows x 11 columns]"
      ]
     },
     "execution_count": 2,
     "metadata": {},
     "output_type": "execute_result"
    }
   ],
   "source": [
    "train = pd.read_csv('train.csv', encoding='latin_1')\n",
    "# Converting all column names to lower case\n",
    "train.columns = train.columns.str.lower()\n",
    "train"
   ]
  },
  {
   "cell_type": "markdown",
   "metadata": {
    "id": "c9LaW2IH_EIn"
   },
   "source": [
    "LETS CHECK FOR DUPLICATES\n"
   ]
  },
  {
   "cell_type": "code",
   "execution_count": 3,
   "metadata": {
    "colab": {
     "base_uri": "https://localhost:8080/"
    },
    "id": "hjC3lO4p_IIM",
    "outputId": "c61ae70d-bf71-48c8-e3a6-e1ce07f0a6d0"
   },
   "outputs": [
    {
     "data": {
      "text/plain": [
       "245725"
      ]
     },
     "execution_count": 3,
     "metadata": {},
     "output_type": "execute_result"
    }
   ],
   "source": [
    "train['id'].nunique() #SINCE THERE ARE 245725 ROWS WE ARE SAFE FROM DUPLICATES!"
   ]
  },
  {
   "cell_type": "code",
   "execution_count": 4,
   "metadata": {
    "colab": {
     "base_uri": "https://localhost:8080/",
     "height": 195
    },
    "id": "EToIszo27xw-",
    "outputId": "bdec1508-45af-44cf-d0eb-00980f524869"
   },
   "outputs": [
    {
     "data": {
      "text/html": [
       "<div>\n",
       "<style scoped>\n",
       "    .dataframe tbody tr th:only-of-type {\n",
       "        vertical-align: middle;\n",
       "    }\n",
       "\n",
       "    .dataframe tbody tr th {\n",
       "        vertical-align: top;\n",
       "    }\n",
       "\n",
       "    .dataframe thead th {\n",
       "        text-align: right;\n",
       "    }\n",
       "</style>\n",
       "<table border=\"1\" class=\"dataframe\">\n",
       "  <thead>\n",
       "    <tr style=\"text-align: right;\">\n",
       "      <th></th>\n",
       "      <th>id</th>\n",
       "      <th>gender</th>\n",
       "      <th>age</th>\n",
       "      <th>region_code</th>\n",
       "      <th>occupation</th>\n",
       "      <th>channel_code</th>\n",
       "      <th>vintage</th>\n",
       "      <th>credit_product</th>\n",
       "      <th>avg_account_balance</th>\n",
       "      <th>is_active</th>\n",
       "    </tr>\n",
       "  </thead>\n",
       "  <tbody>\n",
       "    <tr>\n",
       "      <th>0</th>\n",
       "      <td>VBENBARO</td>\n",
       "      <td>Male</td>\n",
       "      <td>29</td>\n",
       "      <td>RG254</td>\n",
       "      <td>Other</td>\n",
       "      <td>X1</td>\n",
       "      <td>25</td>\n",
       "      <td>Yes</td>\n",
       "      <td>742366</td>\n",
       "      <td>No</td>\n",
       "    </tr>\n",
       "    <tr>\n",
       "      <th>1</th>\n",
       "      <td>CCMEWNKY</td>\n",
       "      <td>Male</td>\n",
       "      <td>43</td>\n",
       "      <td>RG268</td>\n",
       "      <td>Other</td>\n",
       "      <td>X2</td>\n",
       "      <td>49</td>\n",
       "      <td>NaN</td>\n",
       "      <td>925537</td>\n",
       "      <td>No</td>\n",
       "    </tr>\n",
       "    <tr>\n",
       "      <th>2</th>\n",
       "      <td>VK3KGA9M</td>\n",
       "      <td>Male</td>\n",
       "      <td>31</td>\n",
       "      <td>RG270</td>\n",
       "      <td>Salaried</td>\n",
       "      <td>X1</td>\n",
       "      <td>14</td>\n",
       "      <td>No</td>\n",
       "      <td>215949</td>\n",
       "      <td>No</td>\n",
       "    </tr>\n",
       "    <tr>\n",
       "      <th>3</th>\n",
       "      <td>TT8RPZVC</td>\n",
       "      <td>Male</td>\n",
       "      <td>29</td>\n",
       "      <td>RG272</td>\n",
       "      <td>Other</td>\n",
       "      <td>X1</td>\n",
       "      <td>33</td>\n",
       "      <td>No</td>\n",
       "      <td>868070</td>\n",
       "      <td>No</td>\n",
       "    </tr>\n",
       "    <tr>\n",
       "      <th>4</th>\n",
       "      <td>SHQZEYTZ</td>\n",
       "      <td>Female</td>\n",
       "      <td>29</td>\n",
       "      <td>RG270</td>\n",
       "      <td>Other</td>\n",
       "      <td>X1</td>\n",
       "      <td>19</td>\n",
       "      <td>No</td>\n",
       "      <td>657087</td>\n",
       "      <td>No</td>\n",
       "    </tr>\n",
       "  </tbody>\n",
       "</table>\n",
       "</div>"
      ],
      "text/plain": [
       "         id  gender  age region_code occupation channel_code  vintage  \\\n",
       "0  VBENBARO    Male   29       RG254      Other           X1       25   \n",
       "1  CCMEWNKY    Male   43       RG268      Other           X2       49   \n",
       "2  VK3KGA9M    Male   31       RG270   Salaried           X1       14   \n",
       "3  TT8RPZVC    Male   29       RG272      Other           X1       33   \n",
       "4  SHQZEYTZ  Female   29       RG270      Other           X1       19   \n",
       "\n",
       "  credit_product  avg_account_balance is_active  \n",
       "0            Yes               742366        No  \n",
       "1            NaN               925537        No  \n",
       "2             No               215949        No  \n",
       "3             No               868070        No  \n",
       "4             No               657087        No  "
      ]
     },
     "execution_count": 4,
     "metadata": {},
     "output_type": "execute_result"
    }
   ],
   "source": [
    "test = pd.read_csv('test.csv', encoding='latin_1')\n",
    "# Converting all column names to lower case\n",
    "test.columns = test.columns.str.lower()\n",
    "test.head()"
   ]
  },
  {
   "cell_type": "code",
   "execution_count": 5,
   "metadata": {
    "colab": {
     "base_uri": "https://localhost:8080/",
     "height": 284
    },
    "id": "k37w5ZcccGcN",
    "outputId": "cb2430e5-e735-430c-b2ec-4d2c446949d7"
   },
   "outputs": [
    {
     "data": {
      "text/html": [
       "<div>\n",
       "<style scoped>\n",
       "    .dataframe tbody tr th:only-of-type {\n",
       "        vertical-align: middle;\n",
       "    }\n",
       "\n",
       "    .dataframe tbody tr th {\n",
       "        vertical-align: top;\n",
       "    }\n",
       "\n",
       "    .dataframe thead th {\n",
       "        text-align: right;\n",
       "    }\n",
       "</style>\n",
       "<table border=\"1\" class=\"dataframe\">\n",
       "  <thead>\n",
       "    <tr style=\"text-align: right;\">\n",
       "      <th></th>\n",
       "      <th>age</th>\n",
       "      <th>vintage</th>\n",
       "      <th>avg_account_balance</th>\n",
       "      <th>is_lead</th>\n",
       "    </tr>\n",
       "  </thead>\n",
       "  <tbody>\n",
       "    <tr>\n",
       "      <th>count</th>\n",
       "      <td>245725.00</td>\n",
       "      <td>245725.00</td>\n",
       "      <td>245725.00</td>\n",
       "      <td>245725.00</td>\n",
       "    </tr>\n",
       "    <tr>\n",
       "      <th>mean</th>\n",
       "      <td>43.86</td>\n",
       "      <td>46.96</td>\n",
       "      <td>1128403.10</td>\n",
       "      <td>0.24</td>\n",
       "    </tr>\n",
       "    <tr>\n",
       "      <th>std</th>\n",
       "      <td>14.83</td>\n",
       "      <td>32.35</td>\n",
       "      <td>852936.36</td>\n",
       "      <td>0.43</td>\n",
       "    </tr>\n",
       "    <tr>\n",
       "      <th>min</th>\n",
       "      <td>23.00</td>\n",
       "      <td>7.00</td>\n",
       "      <td>20790.00</td>\n",
       "      <td>0.00</td>\n",
       "    </tr>\n",
       "    <tr>\n",
       "      <th>25%</th>\n",
       "      <td>30.00</td>\n",
       "      <td>20.00</td>\n",
       "      <td>604310.00</td>\n",
       "      <td>0.00</td>\n",
       "    </tr>\n",
       "    <tr>\n",
       "      <th>50%</th>\n",
       "      <td>43.00</td>\n",
       "      <td>32.00</td>\n",
       "      <td>894601.00</td>\n",
       "      <td>0.00</td>\n",
       "    </tr>\n",
       "    <tr>\n",
       "      <th>75%</th>\n",
       "      <td>54.00</td>\n",
       "      <td>73.00</td>\n",
       "      <td>1366666.00</td>\n",
       "      <td>0.00</td>\n",
       "    </tr>\n",
       "    <tr>\n",
       "      <th>max</th>\n",
       "      <td>85.00</td>\n",
       "      <td>135.00</td>\n",
       "      <td>10352009.00</td>\n",
       "      <td>1.00</td>\n",
       "    </tr>\n",
       "  </tbody>\n",
       "</table>\n",
       "</div>"
      ],
      "text/plain": [
       "            age   vintage  avg_account_balance   is_lead\n",
       "count 245725.00 245725.00            245725.00 245725.00\n",
       "mean      43.86     46.96           1128403.10      0.24\n",
       "std       14.83     32.35            852936.36      0.43\n",
       "min       23.00      7.00             20790.00      0.00\n",
       "25%       30.00     20.00            604310.00      0.00\n",
       "50%       43.00     32.00            894601.00      0.00\n",
       "75%       54.00     73.00           1366666.00      0.00\n",
       "max       85.00    135.00          10352009.00      1.00"
      ]
     },
     "execution_count": 5,
     "metadata": {},
     "output_type": "execute_result"
    }
   ],
   "source": [
    "train.describe()"
   ]
  },
  {
   "cell_type": "code",
   "execution_count": 6,
   "metadata": {
    "colab": {
     "base_uri": "https://localhost:8080/",
     "height": 284
    },
    "id": "FyO_CrCt73HO",
    "outputId": "05fa0e53-b78c-4246-b1e6-87c62b25f9ab"
   },
   "outputs": [
    {
     "data": {
      "text/html": [
       "<div>\n",
       "<style scoped>\n",
       "    .dataframe tbody tr th:only-of-type {\n",
       "        vertical-align: middle;\n",
       "    }\n",
       "\n",
       "    .dataframe tbody tr th {\n",
       "        vertical-align: top;\n",
       "    }\n",
       "\n",
       "    .dataframe thead th {\n",
       "        text-align: right;\n",
       "    }\n",
       "</style>\n",
       "<table border=\"1\" class=\"dataframe\">\n",
       "  <thead>\n",
       "    <tr style=\"text-align: right;\">\n",
       "      <th></th>\n",
       "      <th>age</th>\n",
       "      <th>vintage</th>\n",
       "      <th>avg_account_balance</th>\n",
       "    </tr>\n",
       "  </thead>\n",
       "  <tbody>\n",
       "    <tr>\n",
       "      <th>count</th>\n",
       "      <td>105312.00</td>\n",
       "      <td>105312.00</td>\n",
       "      <td>105312.00</td>\n",
       "    </tr>\n",
       "    <tr>\n",
       "      <th>mean</th>\n",
       "      <td>43.87</td>\n",
       "      <td>46.84</td>\n",
       "      <td>1134194.63</td>\n",
       "    </tr>\n",
       "    <tr>\n",
       "      <th>std</th>\n",
       "      <td>14.87</td>\n",
       "      <td>32.27</td>\n",
       "      <td>866242.99</td>\n",
       "    </tr>\n",
       "    <tr>\n",
       "      <th>min</th>\n",
       "      <td>24.00</td>\n",
       "      <td>7.00</td>\n",
       "      <td>22597.00</td>\n",
       "    </tr>\n",
       "    <tr>\n",
       "      <th>25%</th>\n",
       "      <td>30.00</td>\n",
       "      <td>20.00</td>\n",
       "      <td>603982.25</td>\n",
       "    </tr>\n",
       "    <tr>\n",
       "      <th>50%</th>\n",
       "      <td>43.00</td>\n",
       "      <td>32.00</td>\n",
       "      <td>896634.50</td>\n",
       "    </tr>\n",
       "    <tr>\n",
       "      <th>75%</th>\n",
       "      <td>54.00</td>\n",
       "      <td>73.00</td>\n",
       "      <td>1371598.25</td>\n",
       "    </tr>\n",
       "    <tr>\n",
       "      <th>max</th>\n",
       "      <td>85.00</td>\n",
       "      <td>135.00</td>\n",
       "      <td>9908858.00</td>\n",
       "    </tr>\n",
       "  </tbody>\n",
       "</table>\n",
       "</div>"
      ],
      "text/plain": [
       "            age   vintage  avg_account_balance\n",
       "count 105312.00 105312.00            105312.00\n",
       "mean      43.87     46.84           1134194.63\n",
       "std       14.87     32.27            866242.99\n",
       "min       24.00      7.00             22597.00\n",
       "25%       30.00     20.00            603982.25\n",
       "50%       43.00     32.00            896634.50\n",
       "75%       54.00     73.00           1371598.25\n",
       "max       85.00    135.00           9908858.00"
      ]
     },
     "execution_count": 6,
     "metadata": {},
     "output_type": "execute_result"
    }
   ],
   "source": [
    "test.describe()"
   ]
  },
  {
   "cell_type": "markdown",
   "metadata": {
    "id": "I4xYrtuE8FbN"
   },
   "source": [
    "If you notice, age and vintage have quite common stats in both train and test data."
   ]
  },
  {
   "cell_type": "markdown",
   "metadata": {
    "id": "fvaRLGA7hhsP"
   },
   "source": [
    "## Exploratory Data Analysis\n"
   ]
  },
  {
   "cell_type": "code",
   "execution_count": 65,
   "metadata": {
    "colab": {
     "base_uri": "https://localhost:8080/"
    },
    "id": "xW5e64L-dYfb",
    "outputId": "651423dd-e688-4070-fa28-9eabceb11f5d"
   },
   "outputs": [
    {
     "name": "stdout",
     "output_type": "stream",
     "text": [
      "<class 'pandas.core.frame.DataFrame'>\n",
      "RangeIndex: 245725 entries, 0 to 245724\n",
      "Data columns (total 9 columns):\n",
      " #   Column               Non-Null Count   Dtype\n",
      "---  ------               --------------   -----\n",
      " 0   gender               245725 non-null  int32\n",
      " 1   age                  245725 non-null  int32\n",
      " 2   occupation           245725 non-null  int32\n",
      " 3   channel_code         245725 non-null  int32\n",
      " 4   vintage              245725 non-null  int32\n",
      " 5   credit_product       245725 non-null  int32\n",
      " 6   avg_account_balance  245725 non-null  int32\n",
      " 7   is_active            245725 non-null  int32\n",
      " 8   is_lead              245725 non-null  int64\n",
      "dtypes: int32(8), int64(1)\n",
      "memory usage: 9.4 MB\n"
     ]
    }
   ],
   "source": [
    "train.info()"
   ]
  },
  {
   "cell_type": "code",
   "execution_count": 8,
   "metadata": {
    "colab": {
     "base_uri": "https://localhost:8080/"
    },
    "id": "fEbKGhw78XYd",
    "outputId": "f1f7ccf5-9fee-4098-f085-7a0e9c5f48b7"
   },
   "outputs": [
    {
     "name": "stdout",
     "output_type": "stream",
     "text": [
      "<class 'pandas.core.frame.DataFrame'>\n",
      "RangeIndex: 105312 entries, 0 to 105311\n",
      "Data columns (total 10 columns):\n",
      " #   Column               Non-Null Count   Dtype \n",
      "---  ------               --------------   ----- \n",
      " 0   id                   105312 non-null  object\n",
      " 1   gender               105312 non-null  object\n",
      " 2   age                  105312 non-null  int64 \n",
      " 3   region_code          105312 non-null  object\n",
      " 4   occupation           105312 non-null  object\n",
      " 5   channel_code         105312 non-null  object\n",
      " 6   vintage              105312 non-null  int64 \n",
      " 7   credit_product       92790 non-null   object\n",
      " 8   avg_account_balance  105312 non-null  int64 \n",
      " 9   is_active            105312 non-null  object\n",
      "dtypes: int64(3), object(7)\n",
      "memory usage: 8.0+ MB\n"
     ]
    }
   ],
   "source": [
    "test.info()"
   ]
  },
  {
   "cell_type": "markdown",
   "metadata": {
    "id": "v-KMsYRt_e4K"
   },
   "source": [
    "Lets check for Null Values in both train and test"
   ]
  },
  {
   "cell_type": "code",
   "execution_count": 9,
   "metadata": {
    "colab": {
     "base_uri": "https://localhost:8080/",
     "height": 398
    },
    "id": "tJzRl2Ka_kQv",
    "outputId": "d8431c2e-cc27-4a73-e15c-40bd56b80d4a"
   },
   "outputs": [
    {
     "data": {
      "text/plain": [
       "<AxesSubplot:>"
      ]
     },
     "execution_count": 9,
     "metadata": {},
     "output_type": "execute_result"
    },
    {
     "data": {
      "image/png": "[encoded data removed]",
      "text/plain": [
       "<Figure size 432x288 with 2 Axes>"
      ]
     },
     "metadata": {},
     "output_type": "display_data"
    }
   ],
   "source": [
    "sns.heatmap(train.isnull()) \n",
    "# Seems like Credit_Product has some!"
   ]
  },
  {
   "cell_type": "code",
   "execution_count": 10,
   "metadata": {
    "colab": {
     "base_uri": "https://localhost:8080/",
     "height": 398
    },
    "id": "iFvX4Jt9_zIR",
    "outputId": "72e2b353-92a4-4ee9-d9ea-3a1b8e4fefb9"
   },
   "outputs": [
    {
     "data": {
      "text/plain": [
       "<AxesSubplot:>"
      ]
     },
     "execution_count": 10,
     "metadata": {},
     "output_type": "execute_result"
    },
    {
     "data": {
      "image/png": "[encoded data removed]",
      "text/plain": [
       "<Figure size 432x288 with 2 Axes>"
      ]
     },
     "metadata": {},
     "output_type": "display_data"
    }
   ],
   "source": [
    "sns.heatmap(test.isnull()) \n",
    "# Seems like Credit_Product has some!"
   ]
  },
  {
   "cell_type": "markdown",
   "metadata": {
    "id": "aDBj7NqUh5TG"
   },
   "source": [
    "Highlights\n",
    "\n",
    "*   Dataset contains details of 245725 transactions with 31 features.\n",
    "*   Except for credit_product which contains 216400 rows, there is no missing data in our dataset, every column contain exactly 245725 rows\n",
    "*   Except for id which is nothing but like a primary, rest all features can be analysed!\n",
    "*   Similarly except for number of rows everything is quite similar in test data\n",
    "*   Instead of imputuing, droping the NaN values in credit_product, lets just assign a third category to them in both train and test data, which is notassigned\n",
    "\n",
    "\n",
    "\n",
    "\n",
    "\n"
   ]
  },
  {
   "cell_type": "code",
   "execution_count": 11,
   "metadata": {
    "id": "9zouwx3v8VuJ"
   },
   "outputs": [],
   "source": [
    "train['credit_product'].fillna('notassigned', inplace=True)\n",
    "test['credit_product'].fillna('notassigned', inplace=True)"
   ]
  },
  {
   "cell_type": "markdown",
   "metadata": {
    "id": "p0odjk38ispw"
   },
   "source": [
    "Now, Count unique values of label\n"
   ]
  },
  {
   "cell_type": "code",
   "execution_count": 12,
   "metadata": {
    "colab": {
     "base_uri": "https://localhost:8080/"
    },
    "id": "au0jXoPMisG3",
    "outputId": "53b6951f-684f-46ef-f391-c80f0271f8ed"
   },
   "outputs": [
    {
     "name": "stdout",
     "output_type": "stream",
     "text": [
      "0    187437\n",
      "1     58288\n",
      "Name: is_lead, dtype: int64\n",
      "\n",
      "\n",
      "0   0.76\n",
      "1   0.24\n",
      "Name: is_lead, dtype: float64\n"
     ]
    }
   ],
   "source": [
    "print(train['is_lead'].value_counts())\n",
    "print('\\n')\n",
    "print(train['is_lead'].value_counts(normalize=True))"
   ]
  },
  {
   "cell_type": "code",
   "execution_count": 13,
   "metadata": {
    "colab": {
     "base_uri": "https://localhost:8080/",
     "height": 378
    },
    "id": "Mh1wCDCN1K2-",
    "outputId": "e3e54725-251e-4e6a-b908-9be831a54793"
   },
   "outputs": [
    {
     "data": {
      "image/png": "[encoded data removed]",
      "text/plain": [
       "<Figure size 432x432 with 1 Axes>"
      ]
     },
     "metadata": {},
     "output_type": "display_data"
    }
   ],
   "source": [
    "# train['credit_product'].fillna('NotMentioned', inplace=True)\n",
    "train[\"is_lead\"].value_counts().plot(kind = 'pie',explode=[0, 0.1],figsize=(6, 6),autopct='%1.1f%%',shadow=True)\n",
    "plt.title(\"IsLead and is Non-Is_Lead\",fontsize=20)\n",
    "plt.legend([\"Is_Lead\", \"Non-IsLead\"])\n",
    "plt.show()"
   ]
  },
  {
   "cell_type": "markdown",
   "metadata": {
    "id": "yG-kycK_jmIN"
   },
   "source": [
    "Highlights\n",
    "\n",
    "This dataset has 58288 Non-Is_Lead and 187437 Is_Lead. The dataset is unbalanced, the positive class (Is_Lead) account for 23.7% of all data. Most of the data are Is_Lead. If we use this dataframe as the base for our predictive models and analysis, our algorithms will probably overfit since it will \"assume\" that most data are Is_Lead. But we don't want our model to assume, we want our model to detect patterns that predicts whether the person will be the lead or not based on the given details of the person."
   ]
  },
  {
   "cell_type": "markdown",
   "metadata": {
    "id": "2MSCQKEO5pRf"
   },
   "source": [
    "Getting all the numeric terms:"
   ]
  },
  {
   "cell_type": "code",
   "execution_count": 14,
   "metadata": {
    "colab": {
     "base_uri": "https://localhost:8080/"
    },
    "id": "GmgCvbzxxklq",
    "outputId": "0da9c6df-93ee-470f-a697-a78df1615090"
   },
   "outputs": [
    {
     "data": {
      "text/plain": [
       "['age', 'vintage', 'avg_account_balance']"
      ]
     },
     "execution_count": 14,
     "metadata": {},
     "output_type": "execute_result"
    }
   ],
   "source": [
    "col = list(train.columns)\n",
    "text = ('id', 'channel_code', 'is_active','gender', 'region_code', 'occupation', 'credit_product', 'is_lead')\n",
    "for i in text:\n",
    "  col.remove(i)\n",
    "col"
   ]
  },
  {
   "cell_type": "markdown",
   "metadata": {
    "id": "VeR0986_9ZHc"
   },
   "source": [
    "Plotting the distribution of all numeric columns"
   ]
  },
  {
   "cell_type": "code",
   "execution_count": 15,
   "metadata": {
    "colab": {
     "base_uri": "https://localhost:8080/",
     "height": 274
    },
    "id": "4as4vrLNjRx9",
    "outputId": "31179771-2e0f-4947-e730-3c6825055fb7"
   },
   "outputs": [
    {
     "data": {
      "image/png": "[encoded data removed]",
      "text/plain": [
       "<Figure size 1800x360 with 3 Axes>"
      ]
     },
     "metadata": {},
     "output_type": "display_data"
    }
   ],
   "source": [
    "fig, axs = plt.subplots(ncols=3,figsize=(25,5))\n",
    "j = 0\n",
    "for i in col:\n",
    "  axs[j].set_title(\"Distribution of {c}\".format(c=i))\n",
    "  sns.distplot(train[i], bins=100, ax=axs[j])\n",
    "  j=j+1\n",
    "  plt.ticklabel_format(style='plain', axis='x')\n",
    "plt.show()"
   ]
  },
  {
   "cell_type": "code",
   "execution_count": 16,
   "metadata": {
    "colab": {
     "base_uri": "https://localhost:8080/",
     "height": 283
    },
    "id": "uhWRHU9uKcSx",
    "outputId": "ea5986a2-4052-418a-85df-130894226a2a"
   },
   "outputs": [
    {
     "data": {
      "image/png": "[encoded data removed]",
      "text/plain": [
       "<Figure size 1800x360 with 3 Axes>"
      ]
     },
     "metadata": {},
     "output_type": "display_data"
    }
   ],
   "source": [
    "fig, axs = plt.subplots(ncols=3,figsize=(25,5))\n",
    "j = 0\n",
    "for i in col:\n",
    "  axs[j].set_title(\"Distribution of {c}\".format(c=i))\n",
    "  sns.boxplot(train[i], ax=axs[j])\n",
    "  j=j+1\n",
    "  plt.ticklabel_format(style='plain', axis='x')\n",
    "plt.show()"
   ]
  },
  {
   "cell_type": "markdown",
   "metadata": {
    "id": "Hb1yAkWG9udE"
   },
   "source": [
    "*Looks like we have some outliers in avg_account_balance. Lets see at the boxplots of all the features with respect to class.*"
   ]
  },
  {
   "cell_type": "code",
   "execution_count": 17,
   "metadata": {
    "colab": {
     "base_uri": "https://localhost:8080/",
     "height": 283
    },
    "id": "NIy5GTC2JFqA",
    "outputId": "81d1fe59-b9ef-42ed-b412-52560d381ba9"
   },
   "outputs": [
    {
     "data": {
      "image/png": "[encoded data removed]",
      "text/plain": [
       "<Figure size 1800x360 with 3 Axes>"
      ]
     },
     "metadata": {},
     "output_type": "display_data"
    }
   ],
   "source": [
    "fig, axs = plt.subplots(ncols=3,figsize=(25,5))\n",
    "j = 0\n",
    "for i in col:\n",
    "  axs[j].set_title(\"Box Plot of {c} from test data\".format(c=i))\n",
    "  sns.boxplot(train[i], ax=axs[j], color='cyan')\n",
    "  j=j+1\n",
    "  plt.ticklabel_format(style='plain', axis='x')\n",
    "plt.show()\n"
   ]
  },
  {
   "cell_type": "markdown",
   "metadata": {
    "id": "Wkc1Vxrh_61M"
   },
   "source": [
    "Now, since we dont want these outliers to affect models performance, lets get rid of them."
   ]
  },
  {
   "cell_type": "code",
   "execution_count": 18,
   "metadata": {
    "colab": {
     "base_uri": "https://localhost:8080/",
     "height": 284
    },
    "id": "BoogNBWEKue2",
    "outputId": "267a37e7-7cbd-4c4d-ca4c-a42f4e73542a"
   },
   "outputs": [
    {
     "data": {
      "text/html": [
       "<div>\n",
       "<style scoped>\n",
       "    .dataframe tbody tr th:only-of-type {\n",
       "        vertical-align: middle;\n",
       "    }\n",
       "\n",
       "    .dataframe tbody tr th {\n",
       "        vertical-align: top;\n",
       "    }\n",
       "\n",
       "    .dataframe thead th {\n",
       "        text-align: right;\n",
       "    }\n",
       "</style>\n",
       "<table border=\"1\" class=\"dataframe\">\n",
       "  <thead>\n",
       "    <tr style=\"text-align: right;\">\n",
       "      <th></th>\n",
       "      <th>age</th>\n",
       "      <th>vintage</th>\n",
       "      <th>avg_account_balance</th>\n",
       "      <th>is_lead</th>\n",
       "    </tr>\n",
       "  </thead>\n",
       "  <tbody>\n",
       "    <tr>\n",
       "      <th>count</th>\n",
       "      <td>245725.00</td>\n",
       "      <td>245725.00</td>\n",
       "      <td>245725.00</td>\n",
       "      <td>245725.00</td>\n",
       "    </tr>\n",
       "    <tr>\n",
       "      <th>mean</th>\n",
       "      <td>43.86</td>\n",
       "      <td>46.96</td>\n",
       "      <td>1128403.10</td>\n",
       "      <td>0.24</td>\n",
       "    </tr>\n",
       "    <tr>\n",
       "      <th>std</th>\n",
       "      <td>14.83</td>\n",
       "      <td>32.35</td>\n",
       "      <td>852936.36</td>\n",
       "      <td>0.43</td>\n",
       "    </tr>\n",
       "    <tr>\n",
       "      <th>min</th>\n",
       "      <td>23.00</td>\n",
       "      <td>7.00</td>\n",
       "      <td>20790.00</td>\n",
       "      <td>0.00</td>\n",
       "    </tr>\n",
       "    <tr>\n",
       "      <th>25%</th>\n",
       "      <td>30.00</td>\n",
       "      <td>20.00</td>\n",
       "      <td>604310.00</td>\n",
       "      <td>0.00</td>\n",
       "    </tr>\n",
       "    <tr>\n",
       "      <th>50%</th>\n",
       "      <td>43.00</td>\n",
       "      <td>32.00</td>\n",
       "      <td>894601.00</td>\n",
       "      <td>0.00</td>\n",
       "    </tr>\n",
       "    <tr>\n",
       "      <th>75%</th>\n",
       "      <td>54.00</td>\n",
       "      <td>73.00</td>\n",
       "      <td>1366666.00</td>\n",
       "      <td>0.00</td>\n",
       "    </tr>\n",
       "    <tr>\n",
       "      <th>max</th>\n",
       "      <td>85.00</td>\n",
       "      <td>135.00</td>\n",
       "      <td>10352009.00</td>\n",
       "      <td>1.00</td>\n",
       "    </tr>\n",
       "  </tbody>\n",
       "</table>\n",
       "</div>"
      ],
      "text/plain": [
       "            age   vintage  avg_account_balance   is_lead\n",
       "count 245725.00 245725.00            245725.00 245725.00\n",
       "mean      43.86     46.96           1128403.10      0.24\n",
       "std       14.83     32.35            852936.36      0.43\n",
       "min       23.00      7.00             20790.00      0.00\n",
       "25%       30.00     20.00            604310.00      0.00\n",
       "50%       43.00     32.00            894601.00      0.00\n",
       "75%       54.00     73.00           1366666.00      0.00\n",
       "max       85.00    135.00          10352009.00      1.00"
      ]
     },
     "execution_count": 18,
     "metadata": {},
     "output_type": "execute_result"
    }
   ],
   "source": [
    "train.describe()"
   ]
  },
  {
   "cell_type": "markdown",
   "metadata": {},
   "source": [
    "SINCE SIMILAR PATTERN OF OUTLIERS ARE NOTICED IN BOTH TRAINING AND TESTING DATA, SO LETS JUST CONVERT THE CONTINUOUS FEATURES IN A PARTICULAR RANGE RATHER THEN DROPPING OUTLIERS."
   ]
  },
  {
   "cell_type": "code",
   "execution_count": 19,
   "metadata": {
    "id": "dTZX6bZFSVp0"
   },
   "outputs": [],
   "source": [
    "age = test['age'].values\n",
    "nage = []\n",
    "vintage = test['vintage'].values\n",
    "nvintage = []\n",
    "avg_account_balance = test['avg_account_balance'].values\n",
    "navg_account_balance = []\n",
    "for i in age:\n",
    "  i = int(i)\n",
    "  if i>=23 and i<=30:\n",
    "    nage.append('agerange1')\n",
    "  if i>30 and i<=43:\n",
    "    nage.append('agerange2')\n",
    "  if i>43 and i<=54:\n",
    "    nage.append('agerange3')\n",
    "  if i>54 and i<=85:\n",
    "    nage.append('agerange4')\n",
    "  if i>85:\n",
    "    nage.append('agerange5')\n",
    "for j in vintage:\n",
    "  j = int(j)\n",
    "  if j>=7 and j<=20:\n",
    "    nvintage.append('vintageagerange1')\n",
    "  if j>20 and j<=32:\n",
    "    nvintage.append('vintageagerange2')\n",
    "  if j>32 and j<=73:\n",
    "    nvintage.append('vintageagerange3')\n",
    "  if j>73 and j<=135:\n",
    "    nvintage.append('vintageagerange4')\n",
    "  if j>135:\n",
    "    nvintage.append('vintageagerange5')\n",
    "for k in avg_account_balance:\n",
    "  k = int(k)\n",
    "  if k>=20790 and k<=604310:\n",
    "    v = 'balancerange1'\n",
    "    navg_account_balance.append(v)\n",
    "  if k>604310 and k<=894601:\n",
    "    v = 'balancerange2'\n",
    "    navg_account_balance.append(v)\n",
    "  if k>894601 and k<=1366666:\n",
    "    v = 'balancerange3'\n",
    "    navg_account_balance.append(v)\n",
    "  if k>1366666 and k<=10352009:\n",
    "    v = 'balancerange4'\n",
    "    navg_account_balance.append(v)\n",
    "  if k>10352009:\n",
    "    v = 'balancerange5'\n",
    "    navg_account_balance.append(v)"
   ]
  },
  {
   "cell_type": "code",
   "execution_count": 20,
   "metadata": {
    "colab": {
     "base_uri": "https://localhost:8080/",
     "height": 402
    },
    "id": "4PUAtMMzUf7q",
    "outputId": "6f23d634-c6d8-415b-8a36-6210201cefb1"
   },
   "outputs": [
    {
     "data": {
      "text/html": [
       "<div>\n",
       "<style scoped>\n",
       "    .dataframe tbody tr th:only-of-type {\n",
       "        vertical-align: middle;\n",
       "    }\n",
       "\n",
       "    .dataframe tbody tr th {\n",
       "        vertical-align: top;\n",
       "    }\n",
       "\n",
       "    .dataframe thead th {\n",
       "        text-align: right;\n",
       "    }\n",
       "</style>\n",
       "<table border=\"1\" class=\"dataframe\">\n",
       "  <thead>\n",
       "    <tr style=\"text-align: right;\">\n",
       "      <th></th>\n",
       "      <th>id</th>\n",
       "      <th>gender</th>\n",
       "      <th>age</th>\n",
       "      <th>region_code</th>\n",
       "      <th>occupation</th>\n",
       "      <th>channel_code</th>\n",
       "      <th>vintage</th>\n",
       "      <th>credit_product</th>\n",
       "      <th>avg_account_balance</th>\n",
       "      <th>is_active</th>\n",
       "    </tr>\n",
       "  </thead>\n",
       "  <tbody>\n",
       "    <tr>\n",
       "      <th>0</th>\n",
       "      <td>VBENBARO</td>\n",
       "      <td>Male</td>\n",
       "      <td>agerange1</td>\n",
       "      <td>RG254</td>\n",
       "      <td>Other</td>\n",
       "      <td>X1</td>\n",
       "      <td>vintageagerange2</td>\n",
       "      <td>Yes</td>\n",
       "      <td>balancerange2</td>\n",
       "      <td>No</td>\n",
       "    </tr>\n",
       "    <tr>\n",
       "      <th>1</th>\n",
       "      <td>CCMEWNKY</td>\n",
       "      <td>Male</td>\n",
       "      <td>agerange2</td>\n",
       "      <td>RG268</td>\n",
       "      <td>Other</td>\n",
       "      <td>X2</td>\n",
       "      <td>vintageagerange3</td>\n",
       "      <td>notassigned</td>\n",
       "      <td>balancerange3</td>\n",
       "      <td>No</td>\n",
       "    </tr>\n",
       "    <tr>\n",
       "      <th>2</th>\n",
       "      <td>VK3KGA9M</td>\n",
       "      <td>Male</td>\n",
       "      <td>agerange2</td>\n",
       "      <td>RG270</td>\n",
       "      <td>Salaried</td>\n",
       "      <td>X1</td>\n",
       "      <td>vintageagerange1</td>\n",
       "      <td>No</td>\n",
       "      <td>balancerange1</td>\n",
       "      <td>No</td>\n",
       "    </tr>\n",
       "    <tr>\n",
       "      <th>3</th>\n",
       "      <td>TT8RPZVC</td>\n",
       "      <td>Male</td>\n",
       "      <td>agerange1</td>\n",
       "      <td>RG272</td>\n",
       "      <td>Other</td>\n",
       "      <td>X1</td>\n",
       "      <td>vintageagerange3</td>\n",
       "      <td>No</td>\n",
       "      <td>balancerange2</td>\n",
       "      <td>No</td>\n",
       "    </tr>\n",
       "    <tr>\n",
       "      <th>4</th>\n",
       "      <td>SHQZEYTZ</td>\n",
       "      <td>Female</td>\n",
       "      <td>agerange1</td>\n",
       "      <td>RG270</td>\n",
       "      <td>Other</td>\n",
       "      <td>X1</td>\n",
       "      <td>vintageagerange1</td>\n",
       "      <td>No</td>\n",
       "      <td>balancerange2</td>\n",
       "      <td>No</td>\n",
       "    </tr>\n",
       "    <tr>\n",
       "      <th>...</th>\n",
       "      <td>...</td>\n",
       "      <td>...</td>\n",
       "      <td>...</td>\n",
       "      <td>...</td>\n",
       "      <td>...</td>\n",
       "      <td>...</td>\n",
       "      <td>...</td>\n",
       "      <td>...</td>\n",
       "      <td>...</td>\n",
       "      <td>...</td>\n",
       "    </tr>\n",
       "    <tr>\n",
       "      <th>105307</th>\n",
       "      <td>DBENJOYI</td>\n",
       "      <td>Male</td>\n",
       "      <td>agerange3</td>\n",
       "      <td>RG268</td>\n",
       "      <td>Salaried</td>\n",
       "      <td>X2</td>\n",
       "      <td>vintageagerange4</td>\n",
       "      <td>Yes</td>\n",
       "      <td>balancerange4</td>\n",
       "      <td>Yes</td>\n",
       "    </tr>\n",
       "    <tr>\n",
       "      <th>105308</th>\n",
       "      <td>CWQ72DWS</td>\n",
       "      <td>Male</td>\n",
       "      <td>agerange4</td>\n",
       "      <td>RG277</td>\n",
       "      <td>Other</td>\n",
       "      <td>X2</td>\n",
       "      <td>vintageagerange4</td>\n",
       "      <td>Yes</td>\n",
       "      <td>balancerange3</td>\n",
       "      <td>No</td>\n",
       "    </tr>\n",
       "    <tr>\n",
       "      <th>105309</th>\n",
       "      <td>HDESC8GU</td>\n",
       "      <td>Male</td>\n",
       "      <td>agerange2</td>\n",
       "      <td>RG254</td>\n",
       "      <td>Salaried</td>\n",
       "      <td>X4</td>\n",
       "      <td>vintageagerange1</td>\n",
       "      <td>No</td>\n",
       "      <td>balancerange4</td>\n",
       "      <td>No</td>\n",
       "    </tr>\n",
       "    <tr>\n",
       "      <th>105310</th>\n",
       "      <td>2PW4SFCA</td>\n",
       "      <td>Male</td>\n",
       "      <td>agerange3</td>\n",
       "      <td>RG254</td>\n",
       "      <td>Other</td>\n",
       "      <td>X3</td>\n",
       "      <td>vintageagerange4</td>\n",
       "      <td>No</td>\n",
       "      <td>balancerange2</td>\n",
       "      <td>Yes</td>\n",
       "    </tr>\n",
       "    <tr>\n",
       "      <th>105311</th>\n",
       "      <td>F2NOYPPZ</td>\n",
       "      <td>Male</td>\n",
       "      <td>agerange1</td>\n",
       "      <td>RG256</td>\n",
       "      <td>Salaried</td>\n",
       "      <td>X1</td>\n",
       "      <td>vintageagerange2</td>\n",
       "      <td>No</td>\n",
       "      <td>balancerange1</td>\n",
       "      <td>No</td>\n",
       "    </tr>\n",
       "  </tbody>\n",
       "</table>\n",
       "<p>105312 rows × 10 columns</p>\n",
       "</div>"
      ],
      "text/plain": [
       "              id  gender        age region_code occupation channel_code  \\\n",
       "0       VBENBARO    Male  agerange1       RG254      Other           X1   \n",
       "1       CCMEWNKY    Male  agerange2       RG268      Other           X2   \n",
       "2       VK3KGA9M    Male  agerange2       RG270   Salaried           X1   \n",
       "3       TT8RPZVC    Male  agerange1       RG272      Other           X1   \n",
       "4       SHQZEYTZ  Female  agerange1       RG270      Other           X1   \n",
       "...          ...     ...        ...         ...        ...          ...   \n",
       "105307  DBENJOYI    Male  agerange3       RG268   Salaried           X2   \n",
       "105308  CWQ72DWS    Male  agerange4       RG277      Other           X2   \n",
       "105309  HDESC8GU    Male  agerange2       RG254   Salaried           X4   \n",
       "105310  2PW4SFCA    Male  agerange3       RG254      Other           X3   \n",
       "105311  F2NOYPPZ    Male  agerange1       RG256   Salaried           X1   \n",
       "\n",
       "                 vintage credit_product avg_account_balance is_active  \n",
       "0       vintageagerange2            Yes       balancerange2        No  \n",
       "1       vintageagerange3    notassigned       balancerange3        No  \n",
       "2       vintageagerange1             No       balancerange1        No  \n",
       "3       vintageagerange3             No       balancerange2        No  \n",
       "4       vintageagerange1             No       balancerange2        No  \n",
       "...                  ...            ...                 ...       ...  \n",
       "105307  vintageagerange4            Yes       balancerange4       Yes  \n",
       "105308  vintageagerange4            Yes       balancerange3        No  \n",
       "105309  vintageagerange1             No       balancerange4        No  \n",
       "105310  vintageagerange4             No       balancerange2       Yes  \n",
       "105311  vintageagerange2             No       balancerange1        No  \n",
       "\n",
       "[105312 rows x 10 columns]"
      ]
     },
     "execution_count": 20,
     "metadata": {},
     "output_type": "execute_result"
    }
   ],
   "source": [
    "test['age']=nage\n",
    "test['vintage']=nvintage\n",
    "test['avg_account_balance']=navg_account_balance\n",
    "test"
   ]
  },
  {
   "cell_type": "code",
   "execution_count": 21,
   "metadata": {
    "id": "o4A8cJD9TRUA"
   },
   "outputs": [],
   "source": [
    "age = train['age'].values\n",
    "nage = []\n",
    "vintage = train['vintage'].values\n",
    "nvintage = []\n",
    "avg_account_balance = train['avg_account_balance'].values\n",
    "navg_account_balance = []\n",
    "for i in age:\n",
    "  if i>=23 and i<=30:\n",
    "    nage.append('agerange1')\n",
    "  if i>30 and i<=43:\n",
    "    nage.append('agerange2')\n",
    "  if i>43 and i<=54:\n",
    "    nage.append('agerange3')\n",
    "  if i>54 and i<=85:\n",
    "    nage.append('agerange4')\n",
    "  if i>85:\n",
    "    nage.append('agerange5')\n",
    "for j in vintage:\n",
    "  if j>=7 and j<=20:\n",
    "    nvintage.append('vintageagerange1')\n",
    "  if j>20 and j<=32:\n",
    "    nvintage.append('vintageagerange2')\n",
    "  if j>32 and j<=73:\n",
    "    nvintage.append('vintageagerange3')\n",
    "  if j>73 and j<=135:\n",
    "    nvintage.append('vintageagerange4')\n",
    "  if j>135:\n",
    "    nvintage.append('vintageagerange5')\n",
    "for k in avg_account_balance:\n",
    "  if k>=20790 and k<=604310:\n",
    "    v = 'balancerange1'\n",
    "    navg_account_balance.append(v)\n",
    "  if k>604310 and k<=894601:\n",
    "    v = 'balancerange2'\n",
    "    navg_account_balance.append(v)\n",
    "  if k>894601 and k<=1366666:\n",
    "    v = 'balancerange3'\n",
    "    navg_account_balance.append(v)\n",
    "  if k>1366666 and k<=10352009:\n",
    "    v = 'balancerange4'\n",
    "    navg_account_balance.append(v)\n",
    "  if k>10352009:\n",
    "    v = 'balancerange5'\n",
    "    navg_account_balance.append(v)"
   ]
  },
  {
   "cell_type": "code",
   "execution_count": 22,
   "metadata": {
    "colab": {
     "base_uri": "https://localhost:8080/",
     "height": 422
    },
    "id": "_QiEp2IYFZG1",
    "outputId": "ea8a6854-711f-420f-ff42-996d20248f3e"
   },
   "outputs": [
    {
     "data": {
      "text/html": [
       "<div>\n",
       "<style scoped>\n",
       "    .dataframe tbody tr th:only-of-type {\n",
       "        vertical-align: middle;\n",
       "    }\n",
       "\n",
       "    .dataframe tbody tr th {\n",
       "        vertical-align: top;\n",
       "    }\n",
       "\n",
       "    .dataframe thead th {\n",
       "        text-align: right;\n",
       "    }\n",
       "</style>\n",
       "<table border=\"1\" class=\"dataframe\">\n",
       "  <thead>\n",
       "    <tr style=\"text-align: right;\">\n",
       "      <th></th>\n",
       "      <th>id</th>\n",
       "      <th>gender</th>\n",
       "      <th>age</th>\n",
       "      <th>region_code</th>\n",
       "      <th>occupation</th>\n",
       "      <th>channel_code</th>\n",
       "      <th>vintage</th>\n",
       "      <th>credit_product</th>\n",
       "      <th>avg_account_balance</th>\n",
       "      <th>is_active</th>\n",
       "      <th>is_lead</th>\n",
       "    </tr>\n",
       "  </thead>\n",
       "  <tbody>\n",
       "    <tr>\n",
       "      <th>0</th>\n",
       "      <td>NNVBBKZB</td>\n",
       "      <td>Female</td>\n",
       "      <td>agerange4</td>\n",
       "      <td>RG268</td>\n",
       "      <td>Other</td>\n",
       "      <td>X3</td>\n",
       "      <td>vintageagerange3</td>\n",
       "      <td>No</td>\n",
       "      <td>balancerange3</td>\n",
       "      <td>No</td>\n",
       "      <td>0</td>\n",
       "    </tr>\n",
       "    <tr>\n",
       "      <th>1</th>\n",
       "      <td>IDD62UNG</td>\n",
       "      <td>Female</td>\n",
       "      <td>agerange1</td>\n",
       "      <td>RG277</td>\n",
       "      <td>Salaried</td>\n",
       "      <td>X1</td>\n",
       "      <td>vintageagerange2</td>\n",
       "      <td>No</td>\n",
       "      <td>balancerange1</td>\n",
       "      <td>No</td>\n",
       "      <td>0</td>\n",
       "    </tr>\n",
       "    <tr>\n",
       "      <th>2</th>\n",
       "      <td>HD3DSEMC</td>\n",
       "      <td>Female</td>\n",
       "      <td>agerange4</td>\n",
       "      <td>RG268</td>\n",
       "      <td>Self_Employed</td>\n",
       "      <td>X3</td>\n",
       "      <td>vintageagerange2</td>\n",
       "      <td>No</td>\n",
       "      <td>balancerange4</td>\n",
       "      <td>Yes</td>\n",
       "      <td>0</td>\n",
       "    </tr>\n",
       "    <tr>\n",
       "      <th>3</th>\n",
       "      <td>BF3NC7KV</td>\n",
       "      <td>Male</td>\n",
       "      <td>agerange2</td>\n",
       "      <td>RG270</td>\n",
       "      <td>Salaried</td>\n",
       "      <td>X1</td>\n",
       "      <td>vintageagerange1</td>\n",
       "      <td>No</td>\n",
       "      <td>balancerange1</td>\n",
       "      <td>No</td>\n",
       "      <td>0</td>\n",
       "    </tr>\n",
       "    <tr>\n",
       "      <th>4</th>\n",
       "      <td>TEASRWXV</td>\n",
       "      <td>Female</td>\n",
       "      <td>agerange1</td>\n",
       "      <td>RG282</td>\n",
       "      <td>Salaried</td>\n",
       "      <td>X1</td>\n",
       "      <td>vintageagerange3</td>\n",
       "      <td>No</td>\n",
       "      <td>balancerange2</td>\n",
       "      <td>No</td>\n",
       "      <td>0</td>\n",
       "    </tr>\n",
       "    <tr>\n",
       "      <th>...</th>\n",
       "      <td>...</td>\n",
       "      <td>...</td>\n",
       "      <td>...</td>\n",
       "      <td>...</td>\n",
       "      <td>...</td>\n",
       "      <td>...</td>\n",
       "      <td>...</td>\n",
       "      <td>...</td>\n",
       "      <td>...</td>\n",
       "      <td>...</td>\n",
       "      <td>...</td>\n",
       "    </tr>\n",
       "    <tr>\n",
       "      <th>245720</th>\n",
       "      <td>BPAWWXZN</td>\n",
       "      <td>Male</td>\n",
       "      <td>agerange3</td>\n",
       "      <td>RG284</td>\n",
       "      <td>Self_Employed</td>\n",
       "      <td>X3</td>\n",
       "      <td>vintageagerange4</td>\n",
       "      <td>notassigned</td>\n",
       "      <td>balancerange4</td>\n",
       "      <td>No</td>\n",
       "      <td>0</td>\n",
       "    </tr>\n",
       "    <tr>\n",
       "      <th>245721</th>\n",
       "      <td>HFNB7JY8</td>\n",
       "      <td>Male</td>\n",
       "      <td>agerange1</td>\n",
       "      <td>RG268</td>\n",
       "      <td>Salaried</td>\n",
       "      <td>X1</td>\n",
       "      <td>vintageagerange1</td>\n",
       "      <td>No</td>\n",
       "      <td>balancerange2</td>\n",
       "      <td>Yes</td>\n",
       "      <td>0</td>\n",
       "    </tr>\n",
       "    <tr>\n",
       "      <th>245722</th>\n",
       "      <td>GEHAUCWT</td>\n",
       "      <td>Female</td>\n",
       "      <td>agerange1</td>\n",
       "      <td>RG281</td>\n",
       "      <td>Salaried</td>\n",
       "      <td>X1</td>\n",
       "      <td>vintageagerange1</td>\n",
       "      <td>No</td>\n",
       "      <td>balancerange2</td>\n",
       "      <td>No</td>\n",
       "      <td>0</td>\n",
       "    </tr>\n",
       "    <tr>\n",
       "      <th>245723</th>\n",
       "      <td>GE7V8SAH</td>\n",
       "      <td>Female</td>\n",
       "      <td>agerange1</td>\n",
       "      <td>RG273</td>\n",
       "      <td>Salaried</td>\n",
       "      <td>X1</td>\n",
       "      <td>vintageagerange2</td>\n",
       "      <td>No</td>\n",
       "      <td>balancerange1</td>\n",
       "      <td>No</td>\n",
       "      <td>0</td>\n",
       "    </tr>\n",
       "    <tr>\n",
       "      <th>245724</th>\n",
       "      <td>BOCZSWLJ</td>\n",
       "      <td>Male</td>\n",
       "      <td>agerange1</td>\n",
       "      <td>RG269</td>\n",
       "      <td>Salaried</td>\n",
       "      <td>X1</td>\n",
       "      <td>vintageagerange2</td>\n",
       "      <td>No</td>\n",
       "      <td>balancerange3</td>\n",
       "      <td>No</td>\n",
       "      <td>0</td>\n",
       "    </tr>\n",
       "  </tbody>\n",
       "</table>\n",
       "<p>245725 rows × 11 columns</p>\n",
       "</div>"
      ],
      "text/plain": [
       "              id  gender        age region_code     occupation channel_code  \\\n",
       "0       NNVBBKZB  Female  agerange4       RG268          Other           X3   \n",
       "1       IDD62UNG  Female  agerange1       RG277       Salaried           X1   \n",
       "2       HD3DSEMC  Female  agerange4       RG268  Self_Employed           X3   \n",
       "3       BF3NC7KV    Male  agerange2       RG270       Salaried           X1   \n",
       "4       TEASRWXV  Female  agerange1       RG282       Salaried           X1   \n",
       "...          ...     ...        ...         ...            ...          ...   \n",
       "245720  BPAWWXZN    Male  agerange3       RG284  Self_Employed           X3   \n",
       "245721  HFNB7JY8    Male  agerange1       RG268       Salaried           X1   \n",
       "245722  GEHAUCWT  Female  agerange1       RG281       Salaried           X1   \n",
       "245723  GE7V8SAH  Female  agerange1       RG273       Salaried           X1   \n",
       "245724  BOCZSWLJ    Male  agerange1       RG269       Salaried           X1   \n",
       "\n",
       "                 vintage credit_product avg_account_balance is_active  is_lead  \n",
       "0       vintageagerange3             No       balancerange3        No        0  \n",
       "1       vintageagerange2             No       balancerange1        No        0  \n",
       "2       vintageagerange2             No       balancerange4       Yes        0  \n",
       "3       vintageagerange1             No       balancerange1        No        0  \n",
       "4       vintageagerange3             No       balancerange2        No        0  \n",
       "...                  ...            ...                 ...       ...      ...  \n",
       "245720  vintageagerange4    notassigned       balancerange4        No        0  \n",
       "245721  vintageagerange1             No       balancerange2       Yes        0  \n",
       "245722  vintageagerange1             No       balancerange2        No        0  \n",
       "245723  vintageagerange2             No       balancerange1        No        0  \n",
       "245724  vintageagerange2             No       balancerange3        No        0  \n",
       "\n",
       "[245725 rows x 11 columns]"
      ]
     },
     "execution_count": 22,
     "metadata": {},
     "output_type": "execute_result"
    }
   ],
   "source": [
    "train['age']=nage\n",
    "train['vintage']=nvintage\n",
    "train['avg_account_balance']=navg_account_balance\n",
    "train"
   ]
  },
  {
   "cell_type": "markdown",
   "metadata": {},
   "source": [
    "ENCODING THE DATA"
   ]
  },
  {
   "cell_type": "code",
   "execution_count": 23,
   "metadata": {
    "id": "lZoSLRRTUlxk"
   },
   "outputs": [],
   "source": [
    "from sklearn.preprocessing import LabelEncoder\n",
    "le = LabelEncoder()\n",
    "for x in train:\n",
    "    if train[x].dtypes=='object':\n",
    "        train[x] = le.fit_transform(train[x].astype(str))"
   ]
  },
  {
   "cell_type": "markdown",
   "metadata": {},
   "source": [
    "GETTING CORRELATION BETWEEN ALL THE VARIABLES"
   ]
  },
  {
   "cell_type": "code",
   "execution_count": 24,
   "metadata": {
    "colab": {
     "base_uri": "https://localhost:8080/",
     "height": 707
    },
    "id": "ExqMuBABUyeN",
    "outputId": "d2cb7c54-0935-4b48-957e-f264c21d8551"
   },
   "outputs": [
    {
     "data": {
      "image/png": "[encoded data removed]",
      "text/plain": [
       "<Figure size 720x720 with 2 Axes>"
      ]
     },
     "metadata": {},
     "output_type": "display_data"
    }
   ],
   "source": [
    "X = train.iloc[:,0:8]  #independent columns\n",
    "y = train.iloc[:,-1]    #target column i.e Is_Active\n",
    "#get correlations of each features in dataset\n",
    "corrmat = train.corr(method='pearson')\n",
    "top_corr_features = corrmat.index\n",
    "plt.figure(figsize=(10,10))\n",
    "#plot heat map\n",
    "g=sns.heatmap(train[top_corr_features].corr(method='pearson'),annot=True,cmap=\"RdYlGn\")"
   ]
  },
  {
   "cell_type": "markdown",
   "metadata": {},
   "source": [
    "Dropping some features with low correlation"
   ]
  },
  {
   "cell_type": "code",
   "execution_count": 25,
   "metadata": {
    "id": "IhrKaAZHU33S"
   },
   "outputs": [],
   "source": [
    "train.drop('id', axis = 1, inplace=True) \n",
    "train.drop('region_code', axis = 1, inplace=True) "
   ]
  },
  {
   "cell_type": "code",
   "execution_count": 26,
   "metadata": {
    "colab": {
     "base_uri": "https://localhost:8080/",
     "height": 402
    },
    "id": "xDAjbesCVLsm",
    "outputId": "1336b2a5-ef1b-4e9c-e16e-9a1ca5e2787d"
   },
   "outputs": [
    {
     "data": {
      "text/html": [
       "<div>\n",
       "<style scoped>\n",
       "    .dataframe tbody tr th:only-of-type {\n",
       "        vertical-align: middle;\n",
       "    }\n",
       "\n",
       "    .dataframe tbody tr th {\n",
       "        vertical-align: top;\n",
       "    }\n",
       "\n",
       "    .dataframe thead th {\n",
       "        text-align: right;\n",
       "    }\n",
       "</style>\n",
       "<table border=\"1\" class=\"dataframe\">\n",
       "  <thead>\n",
       "    <tr style=\"text-align: right;\">\n",
       "      <th></th>\n",
       "      <th>gender</th>\n",
       "      <th>age</th>\n",
       "      <th>occupation</th>\n",
       "      <th>channel_code</th>\n",
       "      <th>vintage</th>\n",
       "      <th>credit_product</th>\n",
       "      <th>avg_account_balance</th>\n",
       "      <th>is_active</th>\n",
       "      <th>is_lead</th>\n",
       "    </tr>\n",
       "  </thead>\n",
       "  <tbody>\n",
       "    <tr>\n",
       "      <th>0</th>\n",
       "      <td>0</td>\n",
       "      <td>3</td>\n",
       "      <td>1</td>\n",
       "      <td>2</td>\n",
       "      <td>2</td>\n",
       "      <td>0</td>\n",
       "      <td>2</td>\n",
       "      <td>0</td>\n",
       "      <td>0</td>\n",
       "    </tr>\n",
       "    <tr>\n",
       "      <th>1</th>\n",
       "      <td>0</td>\n",
       "      <td>0</td>\n",
       "      <td>2</td>\n",
       "      <td>0</td>\n",
       "      <td>1</td>\n",
       "      <td>0</td>\n",
       "      <td>0</td>\n",
       "      <td>0</td>\n",
       "      <td>0</td>\n",
       "    </tr>\n",
       "    <tr>\n",
       "      <th>2</th>\n",
       "      <td>0</td>\n",
       "      <td>3</td>\n",
       "      <td>3</td>\n",
       "      <td>2</td>\n",
       "      <td>1</td>\n",
       "      <td>0</td>\n",
       "      <td>3</td>\n",
       "      <td>1</td>\n",
       "      <td>0</td>\n",
       "    </tr>\n",
       "    <tr>\n",
       "      <th>3</th>\n",
       "      <td>1</td>\n",
       "      <td>1</td>\n",
       "      <td>2</td>\n",
       "      <td>0</td>\n",
       "      <td>0</td>\n",
       "      <td>0</td>\n",
       "      <td>0</td>\n",
       "      <td>0</td>\n",
       "      <td>0</td>\n",
       "    </tr>\n",
       "    <tr>\n",
       "      <th>4</th>\n",
       "      <td>0</td>\n",
       "      <td>0</td>\n",
       "      <td>2</td>\n",
       "      <td>0</td>\n",
       "      <td>2</td>\n",
       "      <td>0</td>\n",
       "      <td>1</td>\n",
       "      <td>0</td>\n",
       "      <td>0</td>\n",
       "    </tr>\n",
       "    <tr>\n",
       "      <th>...</th>\n",
       "      <td>...</td>\n",
       "      <td>...</td>\n",
       "      <td>...</td>\n",
       "      <td>...</td>\n",
       "      <td>...</td>\n",
       "      <td>...</td>\n",
       "      <td>...</td>\n",
       "      <td>...</td>\n",
       "      <td>...</td>\n",
       "    </tr>\n",
       "    <tr>\n",
       "      <th>245720</th>\n",
       "      <td>1</td>\n",
       "      <td>2</td>\n",
       "      <td>3</td>\n",
       "      <td>2</td>\n",
       "      <td>3</td>\n",
       "      <td>2</td>\n",
       "      <td>3</td>\n",
       "      <td>0</td>\n",
       "      <td>0</td>\n",
       "    </tr>\n",
       "    <tr>\n",
       "      <th>245721</th>\n",
       "      <td>1</td>\n",
       "      <td>0</td>\n",
       "      <td>2</td>\n",
       "      <td>0</td>\n",
       "      <td>0</td>\n",
       "      <td>0</td>\n",
       "      <td>1</td>\n",
       "      <td>1</td>\n",
       "      <td>0</td>\n",
       "    </tr>\n",
       "    <tr>\n",
       "      <th>245722</th>\n",
       "      <td>0</td>\n",
       "      <td>0</td>\n",
       "      <td>2</td>\n",
       "      <td>0</td>\n",
       "      <td>0</td>\n",
       "      <td>0</td>\n",
       "      <td>1</td>\n",
       "      <td>0</td>\n",
       "      <td>0</td>\n",
       "    </tr>\n",
       "    <tr>\n",
       "      <th>245723</th>\n",
       "      <td>0</td>\n",
       "      <td>0</td>\n",
       "      <td>2</td>\n",
       "      <td>0</td>\n",
       "      <td>1</td>\n",
       "      <td>0</td>\n",
       "      <td>0</td>\n",
       "      <td>0</td>\n",
       "      <td>0</td>\n",
       "    </tr>\n",
       "    <tr>\n",
       "      <th>245724</th>\n",
       "      <td>1</td>\n",
       "      <td>0</td>\n",
       "      <td>2</td>\n",
       "      <td>0</td>\n",
       "      <td>1</td>\n",
       "      <td>0</td>\n",
       "      <td>2</td>\n",
       "      <td>0</td>\n",
       "      <td>0</td>\n",
       "    </tr>\n",
       "  </tbody>\n",
       "</table>\n",
       "<p>245725 rows × 9 columns</p>\n",
       "</div>"
      ],
      "text/plain": [
       "        gender  age  occupation  channel_code  vintage  credit_product  \\\n",
       "0            0    3           1             2        2               0   \n",
       "1            0    0           2             0        1               0   \n",
       "2            0    3           3             2        1               0   \n",
       "3            1    1           2             0        0               0   \n",
       "4            0    0           2             0        2               0   \n",
       "...        ...  ...         ...           ...      ...             ...   \n",
       "245720       1    2           3             2        3               2   \n",
       "245721       1    0           2             0        0               0   \n",
       "245722       0    0           2             0        0               0   \n",
       "245723       0    0           2             0        1               0   \n",
       "245724       1    0           2             0        1               0   \n",
       "\n",
       "        avg_account_balance  is_active  is_lead  \n",
       "0                         2          0        0  \n",
       "1                         0          0        0  \n",
       "2                         3          1        0  \n",
       "3                         0          0        0  \n",
       "4                         1          0        0  \n",
       "...                     ...        ...      ...  \n",
       "245720                    3          0        0  \n",
       "245721                    1          1        0  \n",
       "245722                    1          0        0  \n",
       "245723                    0          0        0  \n",
       "245724                    2          0        0  \n",
       "\n",
       "[245725 rows x 9 columns]"
      ]
     },
     "execution_count": 26,
     "metadata": {},
     "output_type": "execute_result"
    }
   ],
   "source": [
    "train"
   ]
  },
  {
   "cell_type": "markdown",
   "metadata": {
    "id": "FSlokt38IpRM"
   },
   "source": [
    "## Now lets start building our model."
   ]
  },
  {
   "cell_type": "code",
   "execution_count": 27,
   "metadata": {
    "id": "vKTWnmPPE6Ol"
   },
   "outputs": [],
   "source": [
    "X = train.iloc[:,:-1] # X value contains all the variables except labels\n",
    "y = train.iloc[:,-1] # these are the labels"
   ]
  },
  {
   "cell_type": "markdown",
   "metadata": {
    "id": "3fxipBuWI4XK"
   },
   "source": [
    "We create the test train split first"
   ]
  },
  {
   "cell_type": "code",
   "execution_count": 28,
   "metadata": {
    "id": "fJPfVAcRFBb4"
   },
   "outputs": [],
   "source": [
    "from sklearn.model_selection import train_test_split\n",
    "X_train, X_test, y_train, y_test = train_test_split(X,y, test_size=0.3)"
   ]
  },
  {
   "cell_type": "markdown",
   "metadata": {
    "id": "3uE-dwcwFaqm"
   },
   "source": [
    "We have now fit and transform the data into a scaler for accurate reading and results."
   ]
  },
  {
   "cell_type": "code",
   "execution_count": 29,
   "metadata": {
    "id": "DNTlceasFR84"
   },
   "outputs": [],
   "source": [
    "from sklearn.preprocessing import MinMaxScaler\n",
    "mms = MinMaxScaler()\n",
    "X_scaled = pd.DataFrame(mms.fit_transform(X_train), columns=X_train.columns)\n",
    "X_test_scaled = pd.DataFrame(mms.transform(X_test), columns=X_test.columns)"
   ]
  },
  {
   "cell_type": "markdown",
   "metadata": {
    "id": "yYbKyd9YI90X"
   },
   "source": [
    "We have addressed the issue of oversampling here. "
   ]
  },
  {
   "cell_type": "code",
   "execution_count": 30,
   "metadata": {
    "id": "LbDy7I-1FgW6"
   },
   "outputs": [],
   "source": [
    "from imblearn.over_sampling import SMOTE\n",
    "oversample = SMOTE()\n",
    "X_balanced, y_balanced = oversample.fit_resample(X_scaled, y_train)\n",
    "X_test_balanced, y_test_balanced = oversample.fit_resample(X_test_scaled, y_test)"
   ]
  },
  {
   "cell_type": "code",
   "execution_count": 31,
   "metadata": {
    "colab": {
     "base_uri": "https://localhost:8080/"
    },
    "id": "s5Qstw4WFk0s",
    "outputId": "d83f9b68-1603-443d-dc61-c2ea124359a3"
   },
   "outputs": [
    {
     "data": {
      "text/plain": [
       "0    131307\n",
       "1     40700\n",
       "Name: is_lead, dtype: int64"
      ]
     },
     "execution_count": 31,
     "metadata": {},
     "output_type": "execute_result"
    }
   ],
   "source": [
    "y_train.value_counts()\n"
   ]
  },
  {
   "cell_type": "code",
   "execution_count": 32,
   "metadata": {
    "colab": {
     "base_uri": "https://localhost:8080/"
    },
    "id": "A2Fs575NFp0S",
    "outputId": "6ab4023b-816d-4284-da3f-78744f1587e3"
   },
   "outputs": [
    {
     "data": {
      "text/plain": [
       "1    131307\n",
       "0    131307\n",
       "Name: is_lead, dtype: int64"
      ]
     },
     "execution_count": 32,
     "metadata": {},
     "output_type": "execute_result"
    }
   ],
   "source": [
    "pd.core.series.Series(y_balanced).value_counts()\n"
   ]
  },
  {
   "cell_type": "code",
   "execution_count": 33,
   "metadata": {
    "colab": {
     "base_uri": "https://localhost:8080/"
    },
    "id": "qPAUiqGuG6Kk",
    "outputId": "fbc29ed1-bcb5-4361-dae3-ede528b23a39"
   },
   "outputs": [
    {
     "data": {
      "text/plain": [
       "0    56130\n",
       "1    17588\n",
       "Name: is_lead, dtype: int64"
      ]
     },
     "execution_count": 33,
     "metadata": {},
     "output_type": "execute_result"
    }
   ],
   "source": [
    "y_test.value_counts()"
   ]
  },
  {
   "cell_type": "code",
   "execution_count": 34,
   "metadata": {
    "colab": {
     "base_uri": "https://localhost:8080/"
    },
    "id": "AOYBsgq8G8tI",
    "outputId": "9d373217-cd22-4f9c-f2a3-a9e25ee5a320"
   },
   "outputs": [
    {
     "data": {
      "text/plain": [
       "1    56130\n",
       "0    56130\n",
       "Name: is_lead, dtype: int64"
      ]
     },
     "execution_count": 34,
     "metadata": {},
     "output_type": "execute_result"
    }
   ],
   "source": [
    "pd.core.series.Series(y_test_balanced).value_counts()\n"
   ]
  },
  {
   "cell_type": "markdown",
   "metadata": {
    "id": "D0e-qudKHLcg"
   },
   "source": [
    "We notice in the value counts above that label types are now balanced, that is the problem of oversampling is solved now.\n",
    "We will now implement decision tree algorithm "
   ]
  },
  {
   "cell_type": "markdown",
   "metadata": {},
   "source": [
    "First we will do grid search to get the best parameters"
   ]
  },
  {
   "cell_type": "code",
   "execution_count": 38,
   "metadata": {},
   "outputs": [
    {
     "name": "stdout",
     "output_type": "stream",
     "text": [
      "Fitting 3 folds for each of 360 candidates, totalling 1080 fits\n"
     ]
    },
    {
     "name": "stderr",
     "output_type": "stream",
     "text": [
      "[Parallel(n_jobs=1)]: Using backend SequentialBackend with 1 concurrent workers.\n",
      "[Parallel(n_jobs=1)]: Done 1080 out of 1080 | elapsed:  1.4min finished\n"
     ]
    }
   ],
   "source": [
    "from sklearn.tree import DecisionTreeClassifier\n",
    "from sklearn.model_selection import GridSearchCV\n",
    "params = {'max_depth':list(range(0,30)),\n",
    "          'criterion' : [\"gini\", \"entropy\"],\n",
    "          'max_features' : [\"int\",\"float\",\"None\", \"auto\", \"sqrt\", \"log2\"]\n",
    "         }\n",
    "grid_search_cv = GridSearchCV(DecisionTreeClassifier(), params, verbose=1, cv=3)\n",
    "grid_search_cv.fit(X_balanced, y_balanced)\n",
    "model = grid_search_cv.best_estimator_\n"
   ]
  },
  {
   "cell_type": "markdown",
   "metadata": {},
   "source": [
    "Training the model based on above parameters"
   ]
  },
  {
   "cell_type": "code",
   "execution_count": 39,
   "metadata": {},
   "outputs": [
    {
     "name": "stdout",
     "output_type": "stream",
     "text": [
      "DecisionTreeClassifier(criterion='entropy', max_depth=27, max_features='log2')\n"
     ]
    }
   ],
   "source": [
    "model = grid_search_cv.best_estimator_\n",
    "print(model)"
   ]
  },
  {
   "cell_type": "code",
   "execution_count": 40,
   "metadata": {
    "colab": {
     "base_uri": "https://localhost:8080/"
    },
    "id": "ZfLdJVALV2qn",
    "outputId": "8f8612a9-4e74-422d-8458-2d692ff0312f"
   },
   "outputs": [
    {
     "name": "stdout",
     "output_type": "stream",
     "text": [
      "0.3239920999999981\n",
      "TRAINING ACCURACY:  0.8982506336060001\n",
      "TESTING ACCURACY:  0.8772571680443667\n"
     ]
    },
    {
     "data": {
      "text/plain": [
       "['CCLD.pkl']"
      ]
     },
     "execution_count": 40,
     "metadata": {},
     "output_type": "execute_result"
    }
   ],
   "source": [
    "train_scores = []\n",
    "test_scores = []\n",
    "\n",
    "tic = time.perf_counter()\n",
    "model.fit(X_balanced, y_balanced)\n",
    "train_score = model.score(X_balanced, y_balanced)\n",
    "train_scores.append(train_score)\n",
    "test_score = model.score(X_test_balanced, y_test_balanced)\n",
    "test_scores.append(test_score)\n",
    "toc = time.perf_counter()\n",
    "print(toc-tic)\n",
    "\n",
    "#Train Accuracy\n",
    "from sklearn.metrics import roc_auc_score\n",
    "print(\"TRAINING ACCURACY: \", roc_auc_score(y_balanced, model.predict_proba(X_balanced)[:, 1]))\n",
    "\n",
    "#Test Accuracy\n",
    "from sklearn.metrics import roc_auc_score\n",
    "print(\"TESTING ACCURACY: \", roc_auc_score(y_test_balanced, model.predict_proba(X_test_balanced)[:, 1]))\n",
    "\n",
    "# Save the model as a pickle in a file\n",
    "import joblib\n",
    "joblib.dump(model, 'CCLD.pkl')\n"
   ]
  },
  {
   "cell_type": "code",
   "execution_count": 50,
   "metadata": {
    "id": "JAnjSJQUWTg8"
   },
   "outputs": [],
   "source": [
    "# MAKING A FUNCTION FOR PREDICTION\n",
    "def prediction(test): #enter the file as a data frame\n",
    "    IDlite = np.array(test['id'])\n",
    "    le = LabelEncoder()\n",
    "    test.drop('region_code', axis = 1, inplace=True) \n",
    "    for x in test:\n",
    "        if test[x].dtypes=='object':\n",
    "            test[x] = le.fit_transform(test[x].astype(str))\n",
    "    test = test.iloc[:,1:] # X value contains all the variables except ID\n",
    "    mms = MinMaxScaler()\n",
    "    test = pd.DataFrame(mms.fit_transform(test), columns=test.columns)\n",
    "    test = np.array(test)\n",
    "    # Load the model from the file\n",
    "    model = joblib.load('CCLD.pkl') \n",
    "    # Use the loaded model to make predictions\n",
    "    a = model.predict(test)\n",
    "    return IDlite, a"
   ]
  },
  {
   "cell_type": "code",
   "execution_count": 51,
   "metadata": {},
   "outputs": [
    {
     "data": {
      "text/html": [
       "<div>\n",
       "<style scoped>\n",
       "    .dataframe tbody tr th:only-of-type {\n",
       "        vertical-align: middle;\n",
       "    }\n",
       "\n",
       "    .dataframe tbody tr th {\n",
       "        vertical-align: top;\n",
       "    }\n",
       "\n",
       "    .dataframe thead th {\n",
       "        text-align: right;\n",
       "    }\n",
       "</style>\n",
       "<table border=\"1\" class=\"dataframe\">\n",
       "  <thead>\n",
       "    <tr style=\"text-align: right;\">\n",
       "      <th></th>\n",
       "      <th>id</th>\n",
       "      <th>gender</th>\n",
       "      <th>age</th>\n",
       "      <th>region_code</th>\n",
       "      <th>occupation</th>\n",
       "      <th>channel_code</th>\n",
       "      <th>vintage</th>\n",
       "      <th>credit_product</th>\n",
       "      <th>avg_account_balance</th>\n",
       "      <th>is_active</th>\n",
       "    </tr>\n",
       "  </thead>\n",
       "  <tbody>\n",
       "    <tr>\n",
       "      <th>0</th>\n",
       "      <td>94233</td>\n",
       "      <td>1</td>\n",
       "      <td>0</td>\n",
       "      <td>4</td>\n",
       "      <td>1</td>\n",
       "      <td>0</td>\n",
       "      <td>1</td>\n",
       "      <td>1</td>\n",
       "      <td>1</td>\n",
       "      <td>0</td>\n",
       "    </tr>\n",
       "    <tr>\n",
       "      <th>1</th>\n",
       "      <td>28747</td>\n",
       "      <td>1</td>\n",
       "      <td>1</td>\n",
       "      <td>18</td>\n",
       "      <td>1</td>\n",
       "      <td>1</td>\n",
       "      <td>2</td>\n",
       "      <td>2</td>\n",
       "      <td>2</td>\n",
       "      <td>0</td>\n",
       "    </tr>\n",
       "    <tr>\n",
       "      <th>2</th>\n",
       "      <td>94883</td>\n",
       "      <td>1</td>\n",
       "      <td>1</td>\n",
       "      <td>20</td>\n",
       "      <td>2</td>\n",
       "      <td>0</td>\n",
       "      <td>0</td>\n",
       "      <td>0</td>\n",
       "      <td>0</td>\n",
       "      <td>0</td>\n",
       "    </tr>\n",
       "    <tr>\n",
       "      <th>3</th>\n",
       "      <td>90941</td>\n",
       "      <td>1</td>\n",
       "      <td>0</td>\n",
       "      <td>22</td>\n",
       "      <td>1</td>\n",
       "      <td>0</td>\n",
       "      <td>2</td>\n",
       "      <td>0</td>\n",
       "      <td>1</td>\n",
       "      <td>0</td>\n",
       "    </tr>\n",
       "    <tr>\n",
       "      <th>4</th>\n",
       "      <td>87803</td>\n",
       "      <td>0</td>\n",
       "      <td>0</td>\n",
       "      <td>20</td>\n",
       "      <td>1</td>\n",
       "      <td>0</td>\n",
       "      <td>0</td>\n",
       "      <td>0</td>\n",
       "      <td>1</td>\n",
       "      <td>0</td>\n",
       "    </tr>\n",
       "    <tr>\n",
       "      <th>...</th>\n",
       "      <td>...</td>\n",
       "      <td>...</td>\n",
       "      <td>...</td>\n",
       "      <td>...</td>\n",
       "      <td>...</td>\n",
       "      <td>...</td>\n",
       "      <td>...</td>\n",
       "      <td>...</td>\n",
       "      <td>...</td>\n",
       "      <td>...</td>\n",
       "    </tr>\n",
       "    <tr>\n",
       "      <th>105307</th>\n",
       "      <td>33196</td>\n",
       "      <td>1</td>\n",
       "      <td>2</td>\n",
       "      <td>18</td>\n",
       "      <td>2</td>\n",
       "      <td>1</td>\n",
       "      <td>3</td>\n",
       "      <td>1</td>\n",
       "      <td>3</td>\n",
       "      <td>1</td>\n",
       "    </tr>\n",
       "    <tr>\n",
       "      <th>105308</th>\n",
       "      <td>31821</td>\n",
       "      <td>1</td>\n",
       "      <td>3</td>\n",
       "      <td>27</td>\n",
       "      <td>1</td>\n",
       "      <td>1</td>\n",
       "      <td>3</td>\n",
       "      <td>1</td>\n",
       "      <td>2</td>\n",
       "      <td>0</td>\n",
       "    </tr>\n",
       "    <tr>\n",
       "      <th>105309</th>\n",
       "      <td>52132</td>\n",
       "      <td>1</td>\n",
       "      <td>1</td>\n",
       "      <td>4</td>\n",
       "      <td>2</td>\n",
       "      <td>3</td>\n",
       "      <td>0</td>\n",
       "      <td>0</td>\n",
       "      <td>3</td>\n",
       "      <td>0</td>\n",
       "    </tr>\n",
       "    <tr>\n",
       "      <th>105310</th>\n",
       "      <td>1477</td>\n",
       "      <td>1</td>\n",
       "      <td>2</td>\n",
       "      <td>4</td>\n",
       "      <td>1</td>\n",
       "      <td>2</td>\n",
       "      <td>3</td>\n",
       "      <td>0</td>\n",
       "      <td>1</td>\n",
       "      <td>1</td>\n",
       "    </tr>\n",
       "    <tr>\n",
       "      <th>105311</th>\n",
       "      <td>41693</td>\n",
       "      <td>1</td>\n",
       "      <td>0</td>\n",
       "      <td>6</td>\n",
       "      <td>2</td>\n",
       "      <td>0</td>\n",
       "      <td>1</td>\n",
       "      <td>0</td>\n",
       "      <td>0</td>\n",
       "      <td>0</td>\n",
       "    </tr>\n",
       "  </tbody>\n",
       "</table>\n",
       "<p>105312 rows × 10 columns</p>\n",
       "</div>"
      ],
      "text/plain": [
       "           id  gender  age  region_code  occupation  channel_code  vintage  \\\n",
       "0       94233       1    0            4           1             0        1   \n",
       "1       28747       1    1           18           1             1        2   \n",
       "2       94883       1    1           20           2             0        0   \n",
       "3       90941       1    0           22           1             0        2   \n",
       "4       87803       0    0           20           1             0        0   \n",
       "...       ...     ...  ...          ...         ...           ...      ...   \n",
       "105307  33196       1    2           18           2             1        3   \n",
       "105308  31821       1    3           27           1             1        3   \n",
       "105309  52132       1    1            4           2             3        0   \n",
       "105310   1477       1    2            4           1             2        3   \n",
       "105311  41693       1    0            6           2             0        1   \n",
       "\n",
       "        credit_product  avg_account_balance  is_active  \n",
       "0                    1                    1          0  \n",
       "1                    2                    2          0  \n",
       "2                    0                    0          0  \n",
       "3                    0                    1          0  \n",
       "4                    0                    1          0  \n",
       "...                ...                  ...        ...  \n",
       "105307               1                    3          1  \n",
       "105308               1                    2          0  \n",
       "105309               0                    3          0  \n",
       "105310               0                    1          1  \n",
       "105311               0                    0          0  \n",
       "\n",
       "[105312 rows x 10 columns]"
      ]
     },
     "execution_count": 51,
     "metadata": {},
     "output_type": "execute_result"
    }
   ],
   "source": [
    "test"
   ]
  },
  {
   "cell_type": "markdown",
   "metadata": {},
   "source": [
    "## MAKING PREDICTION AND SAVING INTO Solution.csv"
   ]
  },
  {
   "cell_type": "code",
   "execution_count": 52,
   "metadata": {},
   "outputs": [
    {
     "name": "stdout",
     "output_type": "stream",
     "text": [
      "        gender  age  occupation  channel_code  vintage  credit_product  \\\n",
      "0            1    0           1             0        1               1   \n",
      "1            1    1           1             1        2               2   \n",
      "2            1    1           2             0        0               0   \n",
      "3            1    0           1             0        2               0   \n",
      "4            0    0           1             0        0               0   \n",
      "...        ...  ...         ...           ...      ...             ...   \n",
      "105307       1    2           2             1        3               1   \n",
      "105308       1    3           1             1        3               1   \n",
      "105309       1    1           2             3        0               0   \n",
      "105310       1    2           1             2        3               0   \n",
      "105311       1    0           2             0        1               0   \n",
      "\n",
      "        avg_account_balance  is_active  \n",
      "0                         1          0  \n",
      "1                         2          0  \n",
      "2                         0          0  \n",
      "3                         1          0  \n",
      "4                         1          0  \n",
      "...                     ...        ...  \n",
      "105307                    3          1  \n",
      "105308                    2          0  \n",
      "105309                    3          0  \n",
      "105310                    1          1  \n",
      "105311                    0          0  \n",
      "\n",
      "[105312 rows x 8 columns]\n"
     ]
    }
   ],
   "source": [
    "ID, Is_Lead = prediction(test) #getting ID and Is_Lead\n",
    "\n",
    "#making a data frame\n",
    "import pandas as pd\n",
    "import numpy as np\n",
    "dataset = pd.DataFrame({'ID': ID, 'Is_Lead': list(Is_Lead)}, columns=['ID', 'Is_Lead'])\n",
    "\n",
    "#saving the data frame as csv\n",
    "dataset.to_csv(path_or_buf='Solution.csv', sep=',', index=None)"
   ]
  },
  {
   "cell_type": "markdown",
   "metadata": {},
   "source": [
    "Entire code:"
   ]
  },
  {
   "cell_type": "code",
   "execution_count": 63,
   "metadata": {},
   "outputs": [
    {
     "name": "stdout",
     "output_type": "stream",
     "text": [
      "Numpy version : Numpy 1.20.3\n",
      "Pandas version : Pandas 1.1.3\n",
      "Seaborn version : Seaborn 0.11.0\n",
      "SkLearn version : SkLearn 0.23.1\n",
      "\n",
      "SOME INSIGHTS ON WHAT KIND OF DATA ARE WE WORKING ON\n",
      "\n",
      "Information about the training data\n",
      "\n",
      "<class 'pandas.core.frame.DataFrame'>\n",
      "RangeIndex: 245725 entries, 0 to 245724\n",
      "Data columns (total 11 columns):\n",
      " #   Column               Non-Null Count   Dtype \n",
      "---  ------               --------------   ----- \n",
      " 0   id                   245725 non-null  object\n",
      " 1   gender               245725 non-null  object\n",
      " 2   age                  245725 non-null  int64 \n",
      " 3   region_code          245725 non-null  object\n",
      " 4   occupation           245725 non-null  object\n",
      " 5   channel_code         245725 non-null  object\n",
      " 6   vintage              245725 non-null  int64 \n",
      " 7   credit_product       216400 non-null  object\n",
      " 8   avg_account_balance  245725 non-null  int64 \n",
      " 9   is_active            245725 non-null  object\n",
      " 10  is_lead              245725 non-null  int64 \n",
      "dtypes: int64(4), object(7)\n",
      "memory usage: 20.6+ MB\n",
      "None\n",
      "\n",
      "Decription of the continuous features of training data\n",
      "\n",
      "            age   vintage  avg_account_balance   is_lead\n",
      "count 245725.00 245725.00            245725.00 245725.00\n",
      "mean      43.86     46.96           1128403.10      0.24\n",
      "std       14.83     32.35            852936.36      0.43\n",
      "min       23.00      7.00             20790.00      0.00\n",
      "25%       30.00     20.00            604310.00      0.00\n",
      "50%       43.00     32.00            894601.00      0.00\n",
      "75%       54.00     73.00           1366666.00      0.00\n",
      "max       85.00    135.00          10352009.00      1.00\n",
      "\n",
      "\n",
      "\n",
      "Information about the testing data\n",
      "\n",
      "<class 'pandas.core.frame.DataFrame'>\n",
      "RangeIndex: 105312 entries, 0 to 105311\n",
      "Data columns (total 10 columns):\n",
      " #   Column               Non-Null Count   Dtype \n",
      "---  ------               --------------   ----- \n",
      " 0   id                   105312 non-null  object\n",
      " 1   gender               105312 non-null  object\n",
      " 2   age                  105312 non-null  int64 \n",
      " 3   region_code          105312 non-null  object\n",
      " 4   occupation           105312 non-null  object\n",
      " 5   channel_code         105312 non-null  object\n",
      " 6   vintage              105312 non-null  int64 \n",
      " 7   credit_product       92790 non-null   object\n",
      " 8   avg_account_balance  105312 non-null  int64 \n",
      " 9   is_active            105312 non-null  object\n",
      "dtypes: int64(3), object(7)\n",
      "memory usage: 8.0+ MB\n",
      "None\n",
      "\n",
      "Decription of the continuous features of testing data\n",
      "\n",
      "            age   vintage  avg_account_balance\n",
      "count 105312.00 105312.00            105312.00\n",
      "mean      43.87     46.84           1134194.63\n",
      "std       14.87     32.27            866242.99\n",
      "min       24.00      7.00             22597.00\n",
      "25%       30.00     20.00            603982.25\n",
      "50%       43.00     32.00            896634.50\n",
      "75%       54.00     73.00           1371598.25\n",
      "max       85.00    135.00           9908858.00\n",
      "\n",
      "\n",
      "Training Model\n",
      "\n",
      "it took -0.18469850000019505 seconds\n",
      "it took -0.3889733000000888 seconds\n",
      "TRAINING ACCURACY:  0.8982596254439057\n",
      "TESTING ACCURACY:  0.8730003503684214\n",
      "\n",
      "PROCESSING THE DATA TO BE PREDICTED\n",
      "Completed.\n"
     ]
    }
   ],
   "source": [
    "#IMPORTING LIBRARIES\n",
    "import numpy as np\n",
    "import pandas as pd\n",
    "pd.options.display.float_format = '{:.2f}'.format\n",
    "import matplotlib.pyplot as plt\n",
    "import seaborn as sns\n",
    "from tqdm import tqdm\n",
    "from sklearn.preprocessing import LabelEncoder \n",
    "from sklearn.model_selection import train_test_split\n",
    "from sklearn.preprocessing import MinMaxScaler\n",
    "from imblearn.over_sampling import SMOTE\n",
    "from xgboost import XGBClassifier\n",
    "import joblib\n",
    "# Print versions of libraries\n",
    "print(f\"Numpy version : Numpy {np.__version__}\")\n",
    "print(f\"Pandas version : Pandas {pd.__version__}\")\n",
    "print(f\"Seaborn version : Seaborn {sns.__version__}\")\n",
    "print(f\"SkLearn version : SkLearn {sklearn.__version__}\")\n",
    "# Magic Functions for In-Notebook Display\n",
    "%matplotlib inline\n",
    "# Setting seabon style\n",
    "sns.set(style='darkgrid', palette='colorblind')\n",
    "\n",
    "#GETTING THE DATA\n",
    "train = pd.read_csv('train.csv', encoding='latin_1')\n",
    "# Converting all column names to lower case\n",
    "train.columns = train.columns.str.lower()\n",
    " \n",
    "test = pd.read_csv('test.csv', encoding='latin_1')\n",
    "# Converting all column names to lower case\n",
    "test.columns = test.columns.str.lower()\n",
    "test.head()\n",
    "print(\"\")\n",
    "print(\"SOME INSIGHTS ON WHAT KIND OF DATA ARE WE WORKING ON\")\n",
    "print(\"\")\n",
    "print(\"Information about the training data\")\n",
    "print(\"\")\n",
    "print(train.info())\n",
    "print(\"\")\n",
    "print(\"Decription of the continuous features of training data\")\n",
    "print(\"\")\n",
    "print(train.describe())\n",
    "print(\"\")\n",
    "print(\"\")\n",
    "print(\"\")\n",
    "print(\"Information about the testing data\")\n",
    "print(\"\")\n",
    "print(test.info())\n",
    "print(\"\")\n",
    "print(\"Decription of the continuous features of testing data\")\n",
    "print(\"\")\n",
    "print(test.describe())\n",
    "print(\"\")\n",
    "def training(train, test):\n",
    "    #assign a third category to the missing data\n",
    "    train['credit_product'].fillna('notassigned', inplace=True)\n",
    "    test['credit_product'].fillna('notassigned', inplace=True)\n",
    "    #Assigning range to the continuous data in both training and testing\n",
    "    age = test['age'].values\n",
    "    nage = []\n",
    "    vintage = test['vintage'].values\n",
    "    nvintage = []\n",
    "    avg_account_balance = test['avg_account_balance'].values\n",
    "    navg_account_balance = []\n",
    "    for i in age:\n",
    "      i = int(i)\n",
    "      if i>=23 and i<=30:\n",
    "        nage.append('agerange1')\n",
    "      if i>30 and i<=43:\n",
    "        nage.append('agerange2')\n",
    "      if i>43 and i<=54:\n",
    "        nage.append('agerange3')\n",
    "      if i>54 and i<=85:\n",
    "        nage.append('agerange4')\n",
    "      if i>85:\n",
    "        nage.append('agerange5')\n",
    "    for j in vintage:\n",
    "      j = int(j)\n",
    "      if j>=7 and j<=20:\n",
    "        nvintage.append('vintageagerange1')\n",
    "      if j>20 and j<=32:\n",
    "        nvintage.append('vintageagerange2')\n",
    "      if j>32 and j<=73:\n",
    "        nvintage.append('vintageagerange3')\n",
    "      if j>73 and j<=135:\n",
    "        nvintage.append('vintageagerange4')\n",
    "      if j>135:\n",
    "        nvintage.append('vintageagerange5')\n",
    "    for k in avg_account_balance:\n",
    "      k = int(k)\n",
    "      if k>=20790 and k<=604310:\n",
    "        v = 'balancerange1'\n",
    "        navg_account_balance.append(v)\n",
    "      if k>604310 and k<=894601:\n",
    "        v = 'balancerange2'\n",
    "        navg_account_balance.append(v)\n",
    "      if k>894601 and k<=1366666:\n",
    "        v = 'balancerange3'\n",
    "        navg_account_balance.append(v)\n",
    "      if k>1366666 and k<=10352009:\n",
    "        v = 'balancerange4'\n",
    "        navg_account_balance.append(v)\n",
    "      if k>10352009:\n",
    "        v = 'balancerange5'\n",
    "        navg_account_balance.append(v)\n",
    "    test['age']=nage\n",
    "    test['vintage']=nvintage\n",
    "    test['avg_account_balance']=navg_account_balance\n",
    "    age = train['age'].values\n",
    "    nage = []\n",
    "    vintage = train['vintage'].values\n",
    "    nvintage = []\n",
    "    avg_account_balance = train['avg_account_balance'].values\n",
    "    navg_account_balance = []\n",
    "    for i in age:\n",
    "      i = int(i)\n",
    "      if i>=23 and i<=30:\n",
    "        nage.append('agerange1')\n",
    "      if i>30 and i<=43:\n",
    "        nage.append('agerange2')\n",
    "      if i>43 and i<=54:\n",
    "        nage.append('agerange3')\n",
    "      if i>54 and i<=85:\n",
    "        nage.append('agerange4')\n",
    "      if i>85:\n",
    "        nage.append('agerange5')\n",
    "    for j in vintage:\n",
    "      j = int(j)\n",
    "      if j>=7 and j<=20:\n",
    "        nvintage.append('vintageagerange1')\n",
    "      if j>20 and j<=32:\n",
    "        nvintage.append('vintageagerange2')\n",
    "      if j>32 and j<=73:\n",
    "        nvintage.append('vintageagerange3')\n",
    "      if j>73 and j<=135:\n",
    "        nvintage.append('vintageagerange4')\n",
    "      if j>135:\n",
    "        nvintage.append('vintageagerange5')\n",
    "    for k in avg_account_balance:\n",
    "      k = int(k)\n",
    "      if k>=20790 and k<=604310:\n",
    "        v = 'balancerange1'\n",
    "        navg_account_balance.append(v)\n",
    "      if k>604310 and k<=894601:\n",
    "        v = 'balancerange2'\n",
    "        navg_account_balance.append(v)\n",
    "      if k>894601 and k<=1366666:\n",
    "        v = 'balancerange3'\n",
    "        navg_account_balance.append(v)\n",
    "      if k>1366666 and k<=10352009:\n",
    "        v = 'balancerange4'\n",
    "        navg_account_balance.append(v)\n",
    "      if k>10352009:\n",
    "        v = 'balancerange5'\n",
    "        navg_account_balance.append(v)\n",
    "    train['age']=nage\n",
    "    train['vintage']=nvintage\n",
    "    train['avg_account_balance']=navg_account_balance\n",
    "    #Label Encoding our data.\n",
    "    le = LabelEncoder()\n",
    "    for x in train:\n",
    "        if train[x].dtypes=='object':\n",
    "            train[x] = le.fit_transform(train[x].astype(str))\n",
    "    #Dropping some columns with low accuracy\n",
    "    train.drop('id', axis = 1, inplace=True) \n",
    "    train.drop('region_code', axis = 1, inplace=True) \n",
    "    #Now lets start building our model.\n",
    "    X = train.iloc[:,:-1] # X value contains all the variables except labels and ID\n",
    "    y = train.iloc[:,-1] # these are the labels\n",
    "\n",
    "    # We create the test train split first\n",
    "    X_train, X_test, y_train, y_test = train_test_split(X,y, test_size=0.3)\n",
    "\n",
    "    #We have now fit and transform the data into a scaler for accurate reading and results.\n",
    "    mms = MinMaxScaler()\n",
    "    X_scaled = pd.DataFrame(mms.fit_transform(X_train), columns=X_train.columns)\n",
    "    X_test_scaled = pd.DataFrame(mms.transform(X_test), columns=X_test.columns)\n",
    "\n",
    "    #Now we carryout oversampling to adjust the class distribution of a data set\n",
    "    oversample = SMOTE()\n",
    "    X_balanced, y_balanced = oversample.fit_resample(X_scaled, y_train)\n",
    "    X_test_balanced, y_test_balanced = oversample.fit_resample(X_test_scaled, y_test)\n",
    "    '''\n",
    "    To get the best hyper-parameters for our model we are going to use GridSearchCV. Just uncomment the code below to get the best hyper\n",
    "    # from sklearn.tree import DecisionTreeClassifier\n",
    "    # from sklearn.model_selection import GridSearchCV\n",
    "    # params = {'max_depth':list(range(0,30)),\n",
    "    #           'criterion' : [\"gini\", \"entropy\"],\n",
    "    #           'max_features' : [\"int\",\"float\",\"None\", \"auto\", \"sqrt\", \"log2\"]\n",
    "    #          }\n",
    "    # grid_search_cv = GridSearchCV(DecisionTreeClassifier(), params, verbose=1, cv=3)\n",
    "    # grid_search_cv.fit(X_balanced, y_balanced)\n",
    "    # model = grid_search_cv.best_estimator_\n",
    "    # We will now train Decision tree model on the data.\n",
    "    '''\n",
    "    print(\"\")\n",
    "    print(\"Training Model\")\n",
    "    print(\"\")\n",
    "    import time #just to check how much time it takes to train\n",
    "    train_scores = []\n",
    "    test_scores = []\n",
    "    tic = time.perf_counter()\n",
    "    model = DecisionTreeClassifier(criterion='entropy', max_depth=27, max_features='log2')\n",
    "    model.fit(X_balanced, y_balanced)\n",
    "    toc = time.perf_counter() #time ends here\n",
    "    print(\"it took {tt} seconds\".format(tt=tic-toc))\n",
    "    model.fit(X_balanced, y_balanced)\n",
    "    toc = time.perf_counter() #time ends here\n",
    "    print(\"it took {tt} seconds\".format(tt=tic-toc))\n",
    "    \n",
    "    #Train Accuracy\n",
    "    from sklearn.metrics import roc_auc_score\n",
    "    print(\"TRAINING ACCURACY: \", roc_auc_score(y_balanced, model.predict_proba(X_balanced)[:, 1]))\n",
    "    \n",
    "    #Test Accuracy\n",
    "    from sklearn.metrics import roc_auc_score\n",
    "    print(\"TESTING ACCURACY: \", roc_auc_score(y_test_balanced, model.predict_proba(X_test_balanced)[:, 1]))\n",
    "\n",
    "    # Save the model as a pickle in a file\n",
    "    return model\n",
    "\n",
    "# MAKING A FUNCTION FOR PREDICTION\n",
    "def prediction(test, model): #enter the file as a data frame'\n",
    "    print(\"\")\n",
    "    print(\"PROCESSING THE DATA TO BE PREDICTED\")\n",
    "    IDlite = np.array(test['id'])\n",
    "    le = LabelEncoder()\n",
    "    test.drop('region_code', axis = 1, inplace=True) \n",
    "    for x in test:\n",
    "        if test[x].dtypes=='object':\n",
    "            test[x] = le.fit_transform(test[x].astype(str))\n",
    "    test = test.iloc[:,1:] # X value contains all the variables except ID\n",
    "    mms = MinMaxScaler()\n",
    "    test = pd.DataFrame(mms.fit_transform(test), columns=test.columns)\n",
    "    test = np.array(test)\n",
    "    # Use the loaded model to make predictions\n",
    "    a = model.predict(test)\n",
    "    print(\"Completed.\")\n",
    "    return IDlite, a\n",
    "\n",
    "#training the model and getting the predictions\n",
    "model = training(train, test)\n",
    "ID, Is_Lead = prediction(test, model) #getting ID and Is_Lead\n",
    "\n",
    "#making a data frame\n",
    "import pandas as pd\n",
    "import numpy as np\n",
    "dataset = pd.DataFrame({'ID': ID, 'Is_Lead': list(Is_Lead)}, columns=['ID', 'Is_Lead'])\n",
    "\n",
    "#saving the data frame as csv\n",
    "dataset.to_csv(path_or_buf='Solution.csv', sep=',', index=None)"
   ]
  },
  {
   "cell_type": "code",
   "execution_count": null,
   "metadata": {},
   "outputs": [],
   "source": []
  }
 ],
 "metadata": {
  "colab": {
   "collapsed_sections": [],
   "name": "LAST ATTEMPT.ipynb",
   "provenance": []
  },
  "kernelspec": {
   "display_name": "Python 3",
   "language": "python",
   "name": "python3"
  },
  "language_info": {
   "codemirror_mode": {
    "name": "ipython",
    "version": 3
   },
   "file_extension": ".py",
   "mimetype": "text/x-python",
   "name": "python",
   "nbconvert_exporter": "python",
   "pygments_lexer": "ipython3",
   "version": "3.8.5"
  }
 },
 "nbformat": 4,
 "nbformat_minor": 1
}
